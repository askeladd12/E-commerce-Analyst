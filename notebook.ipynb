{
 "cells": [
  {
   "cell_type": "code",
   "metadata": {
    "cell_id": "79c48c01ac5f44efa96a43ddb55b84e5",
    "tags": [],
    "deepnote_to_be_reexecuted": false,
    "source_hash": "24b26b86",
    "execution_start": 1660253076733,
    "execution_millis": 5170,
    "deepnote_cell_type": "code",
    "deepnote_cell_height": 130
   },
   "source": "import pandas as pd\nimport numpy as np\nimport matplotlib.pyplot as plt\nimport seaborn as sns",
   "execution_count": 1,
   "outputs": []
  },
  {
   "cell_type": "markdown",
   "source": "Este conjunto de datos es una colección de 30000 productos de moda femenina. Las categorías cubiertas en este conjunto de datos son ropa occidental, ropa india, perfumes y fragancias, relojes y ropa de dormir.",
   "metadata": {
    "formattedRanges": [],
    "is_collapsed": false,
    "cell_id": "3116e1ac0a584f70b5dac35836506d2e",
    "tags": [],
    "deepnote_cell_type": "text-cell-p"
   }
  },
  {
   "cell_type": "markdown",
   "source": "La descripción de la columna se menciona a continuación:\nBrandName: Menciona la marca del producto\nDetails: Detalles sobre el producto\nSize: Tamaños disponibles\nMRP: Este es el precio minorista máximo \nSellPrice: Este es el precio después del descuento\nCategory: Categoría del producto El valor de\nNan es un valor nulo",
   "metadata": {
    "formattedRanges": [],
    "is_collapsed": false,
    "cell_id": "0052100e8f324f659264533cccbaeac2",
    "tags": [],
    "deepnote_cell_type": "text-cell-p"
   }
  },
  {
   "cell_type": "markdown",
   "source": "# Realizando proceso de ETL",
   "metadata": {
    "formattedRanges": [],
    "is_collapsed": false,
    "cell_id": "a7cea685d6324e82bb502311c32afc29",
    "tags": [],
    "deepnote_cell_type": "text-cell-h1"
   }
  },
  {
   "cell_type": "code",
   "metadata": {
    "cell_id": "4451be092d41465ca040224c529ea722",
    "tags": [],
    "deepnote_to_be_reexecuted": false,
    "source_hash": "22744076",
    "execution_start": 1660253081910,
    "execution_millis": 217,
    "deepnote_cell_type": "code",
    "deepnote_cell_height": 442.796875
   },
   "source": "data = pd.read_csv('/work/FashionDataset.csv')\ndf = pd.DataFrame(data)\ndf.head()",
   "execution_count": 2,
   "outputs": [
    {
     "output_type": "execute_result",
     "execution_count": 2,
     "data": {
      "application/vnd.deepnote.dataframe.v3+json": {
       "column_count": 8,
       "row_count": 5,
       "columns": [
        {
         "name": "Unnamed: 0",
         "dtype": "int64",
         "stats": {
          "unique_count": 5,
          "nan_count": 0,
          "min": "0",
          "max": "4",
          "histogram": [
           {
            "bin_start": 0,
            "bin_end": 0.4,
            "count": 1
           },
           {
            "bin_start": 0.4,
            "bin_end": 0.8,
            "count": 0
           },
           {
            "bin_start": 0.8,
            "bin_end": 1.2000000000000002,
            "count": 1
           },
           {
            "bin_start": 1.2000000000000002,
            "bin_end": 1.6,
            "count": 0
           },
           {
            "bin_start": 1.6,
            "bin_end": 2,
            "count": 0
           },
           {
            "bin_start": 2,
            "bin_end": 2.4000000000000004,
            "count": 1
           },
           {
            "bin_start": 2.4000000000000004,
            "bin_end": 2.8000000000000003,
            "count": 0
           },
           {
            "bin_start": 2.8000000000000003,
            "bin_end": 3.2,
            "count": 1
           },
           {
            "bin_start": 3.2,
            "bin_end": 3.6,
            "count": 0
           },
           {
            "bin_start": 3.6,
            "bin_end": 4,
            "count": 1
           }
          ]
         }
        },
        {
         "name": "BrandName",
         "dtype": "object",
         "stats": {
          "unique_count": 4,
          "nan_count": 0,
          "categories": [
           {
            "name": "life",
            "count": 2
           },
           {
            "name": "only",
            "count": 1
           },
           {
            "name": "2 others",
            "count": 2
           }
          ]
         }
        },
        {
         "name": "Deatils",
         "dtype": "object",
         "stats": {
          "unique_count": 5,
          "nan_count": 0,
          "categories": [
           {
            "name": "solid cotton blend collar neck womens a-line dress - indigo",
            "count": 1
           },
           {
            "name": "polyester peter pan collar womens blouson dress - yellow",
            "count": 1
           },
           {
            "name": "3 others",
            "count": 3
           }
          ]
         }
        },
        {
         "name": "Sizes",
         "dtype": "object",
         "stats": {
          "unique_count": 5,
          "nan_count": 0,
          "categories": [
           {
            "name": "Size:Large,Medium,Small,X-Large,X-Small",
            "count": 1
           },
           {
            "name": "Size:34,36,38,40",
            "count": 1
           },
           {
            "name": "3 others",
            "count": 3
           }
          ]
         }
        },
        {
         "name": "MRP",
         "dtype": "object",
         "stats": {
          "unique_count": 4,
          "nan_count": 0,
          "categories": [
           {
            "name": "Rs\n1699",
            "count": 2
           },
           {
            "name": "Rs\n3499",
            "count": 1
           },
           {
            "name": "2 others",
            "count": 2
           }
          ]
         }
        },
        {
         "name": "SellPrice",
         "dtype": "object",
         "stats": {
          "unique_count": 4,
          "nan_count": 0,
          "categories": [
           {
            "name": "849",
            "count": 2
           },
           {
            "name": "2449",
            "count": 1
           },
           {
            "name": "2 others",
            "count": 2
           }
          ]
         }
        },
        {
         "name": "Discount",
         "dtype": "object",
         "stats": {
          "unique_count": 3,
          "nan_count": 0,
          "categories": [
           {
            "name": "50% off",
            "count": 3
           },
           {
            "name": "30% off",
            "count": 1
           },
           {
            "name": "40% off",
            "count": 1
           }
          ]
         }
        },
        {
         "name": "Category",
         "dtype": "object",
         "stats": {
          "unique_count": 1,
          "nan_count": 0,
          "categories": [
           {
            "name": "Westernwear-Women",
            "count": 5
           }
          ]
         }
        },
        {
         "name": "_deepnote_index_column",
         "dtype": "int64"
        }
       ],
       "rows": [
        {
         "Unnamed: 0": 0,
         "BrandName": "life",
         "Deatils": "solid cotton blend collar neck womens a-line dress - indigo",
         "Sizes": "Size:Large,Medium,Small,X-Large,X-Small",
         "MRP": "Rs\n1699",
         "SellPrice": "849",
         "Discount": "50% off",
         "Category": "Westernwear-Women",
         "_deepnote_index_column": 0
        },
        {
         "Unnamed: 0": 1,
         "BrandName": "only",
         "Deatils": "polyester peter pan collar womens blouson dress - yellow",
         "Sizes": "Size:34,36,38,40",
         "MRP": "Rs\n3499",
         "SellPrice": "2449",
         "Discount": "30% off",
         "Category": "Westernwear-Women",
         "_deepnote_index_column": 1
        },
        {
         "Unnamed: 0": 2,
         "BrandName": "fratini",
         "Deatils": "solid polyester blend wide neck womens regular top - off white",
         "Sizes": "Size:Large,X-Large,XX-Large",
         "MRP": "Rs\n1199",
         "SellPrice": "599",
         "Discount": "50% off",
         "Category": "Westernwear-Women",
         "_deepnote_index_column": 2
        },
        {
         "Unnamed: 0": 3,
         "BrandName": "zink london",
         "Deatils": "stripes polyester sweetheart neck womens dress - black",
         "Sizes": "Size:Large,Medium,Small,X-Large",
         "MRP": "Rs\n2299",
         "SellPrice": "1379",
         "Discount": "40% off",
         "Category": "Westernwear-Women",
         "_deepnote_index_column": 3
        },
        {
         "Unnamed: 0": 4,
         "BrandName": "life",
         "Deatils": "regular fit regular length denim womens jeans - stone",
         "Sizes": "Size:26,28,30,32,34,36",
         "MRP": "Rs\n1699",
         "SellPrice": "849",
         "Discount": "50% off",
         "Category": "Westernwear-Women",
         "_deepnote_index_column": 4
        }
       ]
      },
      "text/plain": "   Unnamed: 0    BrandName                                            Deatils  \\\n0           0         life  solid cotton blend collar neck womens a-line d...   \n1           1         only  polyester peter pan collar womens blouson dres...   \n2           2      fratini  solid polyester blend wide neck womens regular...   \n3           3  zink london  stripes polyester sweetheart neck womens dress...   \n4           4         life  regular fit regular length denim womens jeans ...   \n\n                                     Sizes       MRP SellPrice Discount  \\\n0  Size:Large,Medium,Small,X-Large,X-Small  Rs\\n1699       849  50% off   \n1                         Size:34,36,38,40  Rs\\n3499      2449  30% off   \n2              Size:Large,X-Large,XX-Large  Rs\\n1199       599  50% off   \n3          Size:Large,Medium,Small,X-Large  Rs\\n2299      1379  40% off   \n4                   Size:26,28,30,32,34,36  Rs\\n1699       849  50% off   \n\n            Category  \n0  Westernwear-Women  \n1  Westernwear-Women  \n2  Westernwear-Women  \n3  Westernwear-Women  \n4  Westernwear-Women  ",
      "text/html": "<div>\n<style scoped>\n    .dataframe tbody tr th:only-of-type {\n        vertical-align: middle;\n    }\n\n    .dataframe tbody tr th {\n        vertical-align: top;\n    }\n\n    .dataframe thead th {\n        text-align: right;\n    }\n</style>\n<table border=\"1\" class=\"dataframe\">\n  <thead>\n    <tr style=\"text-align: right;\">\n      <th></th>\n      <th>Unnamed: 0</th>\n      <th>BrandName</th>\n      <th>Deatils</th>\n      <th>Sizes</th>\n      <th>MRP</th>\n      <th>SellPrice</th>\n      <th>Discount</th>\n      <th>Category</th>\n    </tr>\n  </thead>\n  <tbody>\n    <tr>\n      <th>0</th>\n      <td>0</td>\n      <td>life</td>\n      <td>solid cotton blend collar neck womens a-line d...</td>\n      <td>Size:Large,Medium,Small,X-Large,X-Small</td>\n      <td>Rs\\n1699</td>\n      <td>849</td>\n      <td>50% off</td>\n      <td>Westernwear-Women</td>\n    </tr>\n    <tr>\n      <th>1</th>\n      <td>1</td>\n      <td>only</td>\n      <td>polyester peter pan collar womens blouson dres...</td>\n      <td>Size:34,36,38,40</td>\n      <td>Rs\\n3499</td>\n      <td>2449</td>\n      <td>30% off</td>\n      <td>Westernwear-Women</td>\n    </tr>\n    <tr>\n      <th>2</th>\n      <td>2</td>\n      <td>fratini</td>\n      <td>solid polyester blend wide neck womens regular...</td>\n      <td>Size:Large,X-Large,XX-Large</td>\n      <td>Rs\\n1199</td>\n      <td>599</td>\n      <td>50% off</td>\n      <td>Westernwear-Women</td>\n    </tr>\n    <tr>\n      <th>3</th>\n      <td>3</td>\n      <td>zink london</td>\n      <td>stripes polyester sweetheart neck womens dress...</td>\n      <td>Size:Large,Medium,Small,X-Large</td>\n      <td>Rs\\n2299</td>\n      <td>1379</td>\n      <td>40% off</td>\n      <td>Westernwear-Women</td>\n    </tr>\n    <tr>\n      <th>4</th>\n      <td>4</td>\n      <td>life</td>\n      <td>regular fit regular length denim womens jeans ...</td>\n      <td>Size:26,28,30,32,34,36</td>\n      <td>Rs\\n1699</td>\n      <td>849</td>\n      <td>50% off</td>\n      <td>Westernwear-Women</td>\n    </tr>\n  </tbody>\n</table>\n</div>"
     },
     "metadata": {}
    }
   ]
  },
  {
   "cell_type": "code",
   "metadata": {
    "cell_id": "bc6689dfdfd8445b9f225a17e852b806",
    "tags": [],
    "deepnote_to_be_reexecuted": false,
    "source_hash": "de1e323c",
    "execution_start": 1660253082126,
    "execution_millis": 49,
    "deepnote_cell_type": "code",
    "deepnote_cell_height": 387
   },
   "source": "df.info()",
   "execution_count": 3,
   "outputs": [
    {
     "name": "stdout",
     "text": "<class 'pandas.core.frame.DataFrame'>\nRangeIndex: 30758 entries, 0 to 30757\nData columns (total 8 columns):\n #   Column      Non-Null Count  Dtype \n---  ------      --------------  ----- \n 0   Unnamed: 0  30758 non-null  int64 \n 1   BrandName   30758 non-null  object\n 2   Deatils     30758 non-null  object\n 3   Sizes       30758 non-null  object\n 4   MRP         30758 non-null  object\n 5   SellPrice   30758 non-null  object\n 6   Discount    30758 non-null  object\n 7   Category    30758 non-null  object\ndtypes: int64(1), object(7)\nmemory usage: 1.9+ MB\n",
     "output_type": "stream"
    }
   ]
  },
  {
   "cell_type": "code",
   "metadata": {
    "cell_id": "c56ee22a082e455ab5ad4e483d5c1f6f",
    "tags": [],
    "deepnote_to_be_reexecuted": false,
    "source_hash": "a3e556e7",
    "execution_start": 1660253082186,
    "execution_millis": 10576046,
    "deepnote_cell_type": "code",
    "deepnote_cell_height": 76
   },
   "source": "df_ETL = df",
   "execution_count": 4,
   "outputs": []
  },
  {
   "cell_type": "code",
   "metadata": {
    "cell_id": "aaf08ef0a92f4139b5c71158c5487ec9",
    "tags": [],
    "deepnote_to_be_reexecuted": false,
    "source_hash": "bd74ce79",
    "execution_start": 1660253082241,
    "execution_millis": 0,
    "deepnote_cell_type": "code",
    "deepnote_cell_height": 112
   },
   "source": "del df_ETL['Unnamed: 0']\ndel df_ETL['Sizes']\ndel df_ETL['Discount']",
   "execution_count": 5,
   "outputs": []
  },
  {
   "cell_type": "code",
   "metadata": {
    "cell_id": "ae841ab0cdec4ad88488a477e689130a",
    "tags": [],
    "deepnote_to_be_reexecuted": false,
    "source_hash": "3c66c2e6",
    "execution_start": 1660253082242,
    "execution_millis": 46,
    "deepnote_cell_type": "code",
    "deepnote_cell_height": 390
   },
   "source": "df_ETL.head(5)",
   "execution_count": 6,
   "outputs": [
    {
     "output_type": "execute_result",
     "execution_count": 6,
     "data": {
      "application/vnd.deepnote.dataframe.v3+json": {
       "column_count": 5,
       "row_count": 5,
       "columns": [
        {
         "name": "BrandName",
         "dtype": "object",
         "stats": {
          "unique_count": 4,
          "nan_count": 0,
          "categories": [
           {
            "name": "life",
            "count": 2
           },
           {
            "name": "only",
            "count": 1
           },
           {
            "name": "2 others",
            "count": 2
           }
          ]
         }
        },
        {
         "name": "Deatils",
         "dtype": "object",
         "stats": {
          "unique_count": 5,
          "nan_count": 0,
          "categories": [
           {
            "name": "solid cotton blend collar neck womens a-line dress - indigo",
            "count": 1
           },
           {
            "name": "polyester peter pan collar womens blouson dress - yellow",
            "count": 1
           },
           {
            "name": "3 others",
            "count": 3
           }
          ]
         }
        },
        {
         "name": "MRP",
         "dtype": "object",
         "stats": {
          "unique_count": 4,
          "nan_count": 0,
          "categories": [
           {
            "name": "Rs\n1699",
            "count": 2
           },
           {
            "name": "Rs\n3499",
            "count": 1
           },
           {
            "name": "2 others",
            "count": 2
           }
          ]
         }
        },
        {
         "name": "SellPrice",
         "dtype": "object",
         "stats": {
          "unique_count": 4,
          "nan_count": 0,
          "categories": [
           {
            "name": "849",
            "count": 2
           },
           {
            "name": "2449",
            "count": 1
           },
           {
            "name": "2 others",
            "count": 2
           }
          ]
         }
        },
        {
         "name": "Category",
         "dtype": "object",
         "stats": {
          "unique_count": 1,
          "nan_count": 0,
          "categories": [
           {
            "name": "Westernwear-Women",
            "count": 5
           }
          ]
         }
        },
        {
         "name": "_deepnote_index_column",
         "dtype": "int64"
        }
       ],
       "rows": [
        {
         "BrandName": "life",
         "Deatils": "solid cotton blend collar neck womens a-line dress - indigo",
         "MRP": "Rs\n1699",
         "SellPrice": "849",
         "Category": "Westernwear-Women",
         "_deepnote_index_column": 0
        },
        {
         "BrandName": "only",
         "Deatils": "polyester peter pan collar womens blouson dress - yellow",
         "MRP": "Rs\n3499",
         "SellPrice": "2449",
         "Category": "Westernwear-Women",
         "_deepnote_index_column": 1
        },
        {
         "BrandName": "fratini",
         "Deatils": "solid polyester blend wide neck womens regular top - off white",
         "MRP": "Rs\n1199",
         "SellPrice": "599",
         "Category": "Westernwear-Women",
         "_deepnote_index_column": 2
        },
        {
         "BrandName": "zink london",
         "Deatils": "stripes polyester sweetheart neck womens dress - black",
         "MRP": "Rs\n2299",
         "SellPrice": "1379",
         "Category": "Westernwear-Women",
         "_deepnote_index_column": 3
        },
        {
         "BrandName": "life",
         "Deatils": "regular fit regular length denim womens jeans - stone",
         "MRP": "Rs\n1699",
         "SellPrice": "849",
         "Category": "Westernwear-Women",
         "_deepnote_index_column": 4
        }
       ]
      },
      "text/plain": "     BrandName                                            Deatils       MRP  \\\n0         life  solid cotton blend collar neck womens a-line d...  Rs\\n1699   \n1         only  polyester peter pan collar womens blouson dres...  Rs\\n3499   \n2      fratini  solid polyester blend wide neck womens regular...  Rs\\n1199   \n3  zink london  stripes polyester sweetheart neck womens dress...  Rs\\n2299   \n4         life  regular fit regular length denim womens jeans ...  Rs\\n1699   \n\n  SellPrice           Category  \n0       849  Westernwear-Women  \n1      2449  Westernwear-Women  \n2       599  Westernwear-Women  \n3      1379  Westernwear-Women  \n4       849  Westernwear-Women  ",
      "text/html": "<div>\n<style scoped>\n    .dataframe tbody tr th:only-of-type {\n        vertical-align: middle;\n    }\n\n    .dataframe tbody tr th {\n        vertical-align: top;\n    }\n\n    .dataframe thead th {\n        text-align: right;\n    }\n</style>\n<table border=\"1\" class=\"dataframe\">\n  <thead>\n    <tr style=\"text-align: right;\">\n      <th></th>\n      <th>BrandName</th>\n      <th>Deatils</th>\n      <th>MRP</th>\n      <th>SellPrice</th>\n      <th>Category</th>\n    </tr>\n  </thead>\n  <tbody>\n    <tr>\n      <th>0</th>\n      <td>life</td>\n      <td>solid cotton blend collar neck womens a-line d...</td>\n      <td>Rs\\n1699</td>\n      <td>849</td>\n      <td>Westernwear-Women</td>\n    </tr>\n    <tr>\n      <th>1</th>\n      <td>only</td>\n      <td>polyester peter pan collar womens blouson dres...</td>\n      <td>Rs\\n3499</td>\n      <td>2449</td>\n      <td>Westernwear-Women</td>\n    </tr>\n    <tr>\n      <th>2</th>\n      <td>fratini</td>\n      <td>solid polyester blend wide neck womens regular...</td>\n      <td>Rs\\n1199</td>\n      <td>599</td>\n      <td>Westernwear-Women</td>\n    </tr>\n    <tr>\n      <th>3</th>\n      <td>zink london</td>\n      <td>stripes polyester sweetheart neck womens dress...</td>\n      <td>Rs\\n2299</td>\n      <td>1379</td>\n      <td>Westernwear-Women</td>\n    </tr>\n    <tr>\n      <th>4</th>\n      <td>life</td>\n      <td>regular fit regular length denim womens jeans ...</td>\n      <td>Rs\\n1699</td>\n      <td>849</td>\n      <td>Westernwear-Women</td>\n    </tr>\n  </tbody>\n</table>\n</div>"
     },
     "metadata": {}
    }
   ]
  },
  {
   "cell_type": "code",
   "metadata": {
    "cell_id": "2ee7446d91c1434094c249748d43cb81",
    "tags": [],
    "deepnote_to_be_reexecuted": false,
    "source_hash": "66b6071e",
    "execution_start": 1660253082287,
    "execution_millis": 0,
    "deepnote_cell_type": "code",
    "deepnote_cell_height": 94
   },
   "source": "df_ETL.replace('Nan',np.nan,inplace=True)\ndf_ETL.dropna(axis=0,inplace=True)",
   "execution_count": 7,
   "outputs": []
  },
  {
   "cell_type": "code",
   "metadata": {
    "cell_id": "fd06e410342042018956330d600b359b",
    "tags": [],
    "deepnote_to_be_reexecuted": false,
    "source_hash": "7d8f73fe",
    "execution_start": 1660253082291,
    "execution_millis": 953,
    "deepnote_cell_type": "code",
    "deepnote_cell_height": 595
   },
   "source": "df_ETL.drop_duplicates()",
   "execution_count": 8,
   "outputs": [
    {
     "output_type": "execute_result",
     "execution_count": 8,
     "data": {
      "application/vnd.deepnote.dataframe.v3+json": {
       "column_count": 5,
       "row_count": 20778,
       "columns": [
        {
         "name": "BrandName",
         "dtype": "object",
         "stats": {
          "unique_count": 177,
          "nan_count": 0,
          "categories": [
           {
            "name": "zink london",
            "count": 897
           },
           {
            "name": "global desi",
            "count": 819
           },
           {
            "name": "175 others",
            "count": 19062
           }
          ]
         }
        },
        {
         "name": "Deatils",
         "dtype": "object",
         "stats": {
          "unique_count": 18210,
          "nan_count": 0,
          "categories": [
           {
            "name": "printed cotton round neck womens t-shirt - black",
            "count": 13
           },
           {
            "name": "printed cotton round neck womens t-shirt - white",
            "count": 12
           },
           {
            "name": "18208 others",
            "count": 20753
           }
          ]
         }
        },
        {
         "name": "MRP",
         "dtype": "object",
         "stats": {
          "unique_count": 1096,
          "nan_count": 0,
          "categories": [
           {
            "name": "Rs\n1499",
            "count": 900
           },
           {
            "name": "Rs\n1999",
            "count": 891
           },
           {
            "name": "1094 others",
            "count": 18987
           }
          ]
         }
        },
        {
         "name": "SellPrice",
         "dtype": "object",
         "stats": {
          "unique_count": 1683,
          "nan_count": 0,
          "categories": [
           {
            "name": "499",
            "count": 521
           },
           {
            "name": "999",
            "count": 517
           },
           {
            "name": "1681 others",
            "count": 19740
           }
          ]
         }
        },
        {
         "name": "Category",
         "dtype": "object"
        },
        {
         "name": "_deepnote_index_column",
         "dtype": "int64"
        }
       ],
       "rows": [
        {
         "BrandName": "life",
         "Deatils": "solid cotton blend collar neck womens a-line dress - indigo",
         "MRP": "Rs\n1699",
         "SellPrice": "849",
         "Category": "Westernwear-Women",
         "_deepnote_index_column": 0
        },
        {
         "BrandName": "only",
         "Deatils": "polyester peter pan collar womens blouson dress - yellow",
         "MRP": "Rs\n3499",
         "SellPrice": "2449",
         "Category": "Westernwear-Women",
         "_deepnote_index_column": 1
        },
        {
         "BrandName": "fratini",
         "Deatils": "solid polyester blend wide neck womens regular top - off white",
         "MRP": "Rs\n1199",
         "SellPrice": "599",
         "Category": "Westernwear-Women",
         "_deepnote_index_column": 2
        },
        {
         "BrandName": "zink london",
         "Deatils": "stripes polyester sweetheart neck womens dress - black",
         "MRP": "Rs\n2299",
         "SellPrice": "1379",
         "Category": "Westernwear-Women",
         "_deepnote_index_column": 3
        },
        {
         "BrandName": "life",
         "Deatils": "regular fit regular length denim womens jeans - stone",
         "MRP": "Rs\n1699",
         "SellPrice": "849",
         "Category": "Westernwear-Women",
         "_deepnote_index_column": 4
        },
        {
         "BrandName": "kraus",
         "Deatils": "wide ankle length cotton womens jeans - light blue",
         "MRP": "Rs\n1795",
         "SellPrice": "1615",
         "Category": "Westernwear-Women",
         "_deepnote_index_column": 5
        },
        {
         "BrandName": "life",
         "Deatils": "printed cotton blend collared womens regular dress - white",
         "MRP": "Rs\n1299",
         "SellPrice": "649",
         "Category": "Westernwear-Women",
         "_deepnote_index_column": 6
        },
        {
         "BrandName": "fratini",
         "Deatils": "embroidered wide neck polyester womens regular top - blush",
         "MRP": "Rs\n1299",
         "SellPrice": "649",
         "Category": "Westernwear-Women",
         "_deepnote_index_column": 7
        },
        {
         "BrandName": "rare",
         "Deatils": "floral polyester v neck womens flared dress - navy",
         "MRP": "Rs\n2099",
         "SellPrice": "839",
         "Category": "Westernwear-Women",
         "_deepnote_index_column": 8
        },
        {
         "BrandName": "rare",
         "Deatils": "checks cotton boat neck womens regular top - black",
         "MRP": "Rs\n1499",
         "SellPrice": "599",
         "Category": "Westernwear-Women",
         "_deepnote_index_column": 9
        }
       ]
      },
      "text/plain": "          BrandName                                            Deatils  \\\n0              life  solid cotton blend collar neck womens a-line d...   \n1              only  polyester peter pan collar womens blouson dres...   \n2           fratini  solid polyester blend wide neck womens regular...   \n3       zink london  stripes polyester sweetheart neck womens dress...   \n4              life  regular fit regular length denim womens jeans ...   \n...             ...                                                ...   \n30746        jewelz     beautiful white crystal silver plated earrings   \n30747        ayesha  womens metallic gold statement multilayered ch...   \n30748        jewelz  nine pieces combo fashion non-precious metal b...   \n30749  pretty women                          womens pearl golden drops   \n30755        jewelz                 ethnic gold plated jhumki earrings   \n\n            MRP SellPrice           Category  \n0      Rs\\n1699       849  Westernwear-Women  \n1      Rs\\n3499      2449  Westernwear-Women  \n2      Rs\\n1199       599  Westernwear-Women  \n3      Rs\\n2299      1379  Westernwear-Women  \n4      Rs\\n1699       849  Westernwear-Women  \n...         ...       ...                ...  \n30746  Rs\\n1739       608    Jewellery-Women  \n30747   Rs\\n798       399    Jewellery-Women  \n30748  Rs\\n1339       468    Jewellery-Women  \n30749   Rs\\n449       381    Jewellery-Women  \n30755  Rs\\n1839       643    Jewellery-Women  \n\n[20778 rows x 5 columns]",
      "text/html": "<div>\n<style scoped>\n    .dataframe tbody tr th:only-of-type {\n        vertical-align: middle;\n    }\n\n    .dataframe tbody tr th {\n        vertical-align: top;\n    }\n\n    .dataframe thead th {\n        text-align: right;\n    }\n</style>\n<table border=\"1\" class=\"dataframe\">\n  <thead>\n    <tr style=\"text-align: right;\">\n      <th></th>\n      <th>BrandName</th>\n      <th>Deatils</th>\n      <th>MRP</th>\n      <th>SellPrice</th>\n      <th>Category</th>\n    </tr>\n  </thead>\n  <tbody>\n    <tr>\n      <th>0</th>\n      <td>life</td>\n      <td>solid cotton blend collar neck womens a-line d...</td>\n      <td>Rs\\n1699</td>\n      <td>849</td>\n      <td>Westernwear-Women</td>\n    </tr>\n    <tr>\n      <th>1</th>\n      <td>only</td>\n      <td>polyester peter pan collar womens blouson dres...</td>\n      <td>Rs\\n3499</td>\n      <td>2449</td>\n      <td>Westernwear-Women</td>\n    </tr>\n    <tr>\n      <th>2</th>\n      <td>fratini</td>\n      <td>solid polyester blend wide neck womens regular...</td>\n      <td>Rs\\n1199</td>\n      <td>599</td>\n      <td>Westernwear-Women</td>\n    </tr>\n    <tr>\n      <th>3</th>\n      <td>zink london</td>\n      <td>stripes polyester sweetheart neck womens dress...</td>\n      <td>Rs\\n2299</td>\n      <td>1379</td>\n      <td>Westernwear-Women</td>\n    </tr>\n    <tr>\n      <th>4</th>\n      <td>life</td>\n      <td>regular fit regular length denim womens jeans ...</td>\n      <td>Rs\\n1699</td>\n      <td>849</td>\n      <td>Westernwear-Women</td>\n    </tr>\n    <tr>\n      <th>...</th>\n      <td>...</td>\n      <td>...</td>\n      <td>...</td>\n      <td>...</td>\n      <td>...</td>\n    </tr>\n    <tr>\n      <th>30746</th>\n      <td>jewelz</td>\n      <td>beautiful white crystal silver plated earrings</td>\n      <td>Rs\\n1739</td>\n      <td>608</td>\n      <td>Jewellery-Women</td>\n    </tr>\n    <tr>\n      <th>30747</th>\n      <td>ayesha</td>\n      <td>womens metallic gold statement multilayered ch...</td>\n      <td>Rs\\n798</td>\n      <td>399</td>\n      <td>Jewellery-Women</td>\n    </tr>\n    <tr>\n      <th>30748</th>\n      <td>jewelz</td>\n      <td>nine pieces combo fashion non-precious metal b...</td>\n      <td>Rs\\n1339</td>\n      <td>468</td>\n      <td>Jewellery-Women</td>\n    </tr>\n    <tr>\n      <th>30749</th>\n      <td>pretty women</td>\n      <td>womens pearl golden drops</td>\n      <td>Rs\\n449</td>\n      <td>381</td>\n      <td>Jewellery-Women</td>\n    </tr>\n    <tr>\n      <th>30755</th>\n      <td>jewelz</td>\n      <td>ethnic gold plated jhumki earrings</td>\n      <td>Rs\\n1839</td>\n      <td>643</td>\n      <td>Jewellery-Women</td>\n    </tr>\n  </tbody>\n</table>\n<p>20778 rows × 5 columns</p>\n</div>"
     },
     "metadata": {}
    }
   ]
  },
  {
   "cell_type": "code",
   "metadata": {
    "cell_id": "b2e8db47189b4f1681518371c0dbadb8",
    "tags": [],
    "deepnote_to_be_reexecuted": false,
    "source_hash": "d6195c0e",
    "execution_start": 1660253082485,
    "execution_millis": 978,
    "deepnote_cell_type": "code",
    "deepnote_cell_height": 399.1875,
    "deepnote_output_heights": [
     21.1875,
     255
    ]
   },
   "source": "sns.heatmap(df_ETL.isnull(), cmap='viridis')",
   "execution_count": 9,
   "outputs": [
    {
     "output_type": "execute_result",
     "execution_count": 9,
     "data": {
      "text/plain": "<AxesSubplot:>"
     },
     "metadata": {}
    },
    {
     "data": {
      "text/plain": "<Figure size 432x288 with 2 Axes>",
      "image/png": "[encoded data removed]"
     },
     "metadata": {
      "needs_background": "light",
      "image/png": {
       "width": 392,
       "height": 253
      }
     },
     "output_type": "display_data"
    }
   ]
  },
  {
   "cell_type": "markdown",
   "source": "Cambiando la interpretación de las columnas RPM y Sellprice ",
   "metadata": {
    "formattedRanges": [],
    "is_collapsed": false,
    "cell_id": "4ca6e98f2a004921ac8544e4ef26621f",
    "tags": [],
    "deepnote_cell_type": "text-cell-p"
   }
  },
  {
   "cell_type": "code",
   "metadata": {
    "cell_id": "5088a6f43d9d4357b119ef63d3f3f120",
    "tags": [],
    "deepnote_to_be_reexecuted": false,
    "source_hash": "5a3e9909",
    "execution_start": 1660253083467,
    "execution_millis": 107,
    "deepnote_cell_type": "code",
    "deepnote_cell_height": 381
   },
   "source": "df_ETL['MRP']= df_ETL['MRP'].str.replace('Rs','')\ndf_ETL['MRP']= df_ETL['MRP'].astype(int)\ndf_ETL['SellPrice'] = df_ETL['SellPrice'].astype(int)\ndf_ETL.info()",
   "execution_count": 10,
   "outputs": [
    {
     "name": "stdout",
     "text": "<class 'pandas.core.frame.DataFrame'>\nInt64Index: 22550 entries, 0 to 30755\nData columns (total 5 columns):\n #   Column     Non-Null Count  Dtype \n---  ------     --------------  ----- \n 0   BrandName  22550 non-null  object\n 1   Deatils    22550 non-null  object\n 2   MRP        22550 non-null  int64 \n 3   SellPrice  22550 non-null  int64 \n 4   Category   22550 non-null  object\ndtypes: int64(2), object(3)\nmemory usage: 1.0+ MB\n",
     "output_type": "stream"
    }
   ]
  },
  {
   "cell_type": "markdown",
   "source": "# Análisis de datos",
   "metadata": {
    "formattedRanges": [],
    "is_collapsed": false,
    "cell_id": "b3baa524e9fe4a38a21a465a0b3d3833",
    "tags": [],
    "deepnote_cell_type": "text-cell-h1"
   }
  },
  {
   "cell_type": "code",
   "metadata": {
    "cell_id": "d84a99009d37463681ad2077b094479e",
    "tags": [],
    "deepnote_to_be_reexecuted": false,
    "source_hash": "d86dfd40",
    "execution_start": 1660253083585,
    "execution_millis": 20,
    "deepnote_cell_type": "code",
    "deepnote_cell_height": 408
   },
   "source": "df_A = df_ETL\ndf_A.head(5)",
   "execution_count": 11,
   "outputs": [
    {
     "output_type": "execute_result",
     "execution_count": 11,
     "data": {
      "application/vnd.deepnote.dataframe.v3+json": {
       "column_count": 5,
       "row_count": 5,
       "columns": [
        {
         "name": "BrandName",
         "dtype": "object",
         "stats": {
          "unique_count": 4,
          "nan_count": 0,
          "categories": [
           {
            "name": "life",
            "count": 2
           },
           {
            "name": "only",
            "count": 1
           },
           {
            "name": "2 others",
            "count": 2
           }
          ]
         }
        },
        {
         "name": "Deatils",
         "dtype": "object",
         "stats": {
          "unique_count": 5,
          "nan_count": 0,
          "categories": [
           {
            "name": "solid cotton blend collar neck womens a-line dress - indigo",
            "count": 1
           },
           {
            "name": "polyester peter pan collar womens blouson dress - yellow",
            "count": 1
           },
           {
            "name": "3 others",
            "count": 3
           }
          ]
         }
        },
        {
         "name": "MRP",
         "dtype": "int64",
         "stats": {
          "unique_count": 4,
          "nan_count": 0,
          "min": "1199",
          "max": "3499",
          "histogram": [
           {
            "bin_start": 1199,
            "bin_end": 1429,
            "count": 1
           },
           {
            "bin_start": 1429,
            "bin_end": 1659,
            "count": 0
           },
           {
            "bin_start": 1659,
            "bin_end": 1889,
            "count": 2
           },
           {
            "bin_start": 1889,
            "bin_end": 2119,
            "count": 0
           },
           {
            "bin_start": 2119,
            "bin_end": 2349,
            "count": 1
           },
           {
            "bin_start": 2349,
            "bin_end": 2579,
            "count": 0
           },
           {
            "bin_start": 2579,
            "bin_end": 2809,
            "count": 0
           },
           {
            "bin_start": 2809,
            "bin_end": 3039,
            "count": 0
           },
           {
            "bin_start": 3039,
            "bin_end": 3269,
            "count": 0
           },
           {
            "bin_start": 3269,
            "bin_end": 3499,
            "count": 1
           }
          ]
         }
        },
        {
         "name": "SellPrice",
         "dtype": "int64",
         "stats": {
          "unique_count": 4,
          "nan_count": 0,
          "min": "599",
          "max": "2449",
          "histogram": [
           {
            "bin_start": 599,
            "bin_end": 784,
            "count": 1
           },
           {
            "bin_start": 784,
            "bin_end": 969,
            "count": 2
           },
           {
            "bin_start": 969,
            "bin_end": 1154,
            "count": 0
           },
           {
            "bin_start": 1154,
            "bin_end": 1339,
            "count": 0
           },
           {
            "bin_start": 1339,
            "bin_end": 1524,
            "count": 1
           },
           {
            "bin_start": 1524,
            "bin_end": 1709,
            "count": 0
           },
           {
            "bin_start": 1709,
            "bin_end": 1894,
            "count": 0
           },
           {
            "bin_start": 1894,
            "bin_end": 2079,
            "count": 0
           },
           {
            "bin_start": 2079,
            "bin_end": 2264,
            "count": 0
           },
           {
            "bin_start": 2264,
            "bin_end": 2449,
            "count": 1
           }
          ]
         }
        },
        {
         "name": "Category",
         "dtype": "object",
         "stats": {
          "unique_count": 1,
          "nan_count": 0,
          "categories": [
           {
            "name": "Westernwear-Women",
            "count": 5
           }
          ]
         }
        },
        {
         "name": "_deepnote_index_column",
         "dtype": "int64"
        }
       ],
       "rows": [
        {
         "BrandName": "life",
         "Deatils": "solid cotton blend collar neck womens a-line dress - indigo",
         "MRP": 1699,
         "SellPrice": 849,
         "Category": "Westernwear-Women",
         "_deepnote_index_column": 0
        },
        {
         "BrandName": "only",
         "Deatils": "polyester peter pan collar womens blouson dress - yellow",
         "MRP": 3499,
         "SellPrice": 2449,
         "Category": "Westernwear-Women",
         "_deepnote_index_column": 1
        },
        {
         "BrandName": "fratini",
         "Deatils": "solid polyester blend wide neck womens regular top - off white",
         "MRP": 1199,
         "SellPrice": 599,
         "Category": "Westernwear-Women",
         "_deepnote_index_column": 2
        },
        {
         "BrandName": "zink london",
         "Deatils": "stripes polyester sweetheart neck womens dress - black",
         "MRP": 2299,
         "SellPrice": 1379,
         "Category": "Westernwear-Women",
         "_deepnote_index_column": 3
        },
        {
         "BrandName": "life",
         "Deatils": "regular fit regular length denim womens jeans - stone",
         "MRP": 1699,
         "SellPrice": 849,
         "Category": "Westernwear-Women",
         "_deepnote_index_column": 4
        }
       ]
      },
      "text/plain": "     BrandName                                            Deatils   MRP  \\\n0         life  solid cotton blend collar neck womens a-line d...  1699   \n1         only  polyester peter pan collar womens blouson dres...  3499   \n2      fratini  solid polyester blend wide neck womens regular...  1199   \n3  zink london  stripes polyester sweetheart neck womens dress...  2299   \n4         life  regular fit regular length denim womens jeans ...  1699   \n\n   SellPrice           Category  \n0        849  Westernwear-Women  \n1       2449  Westernwear-Women  \n2        599  Westernwear-Women  \n3       1379  Westernwear-Women  \n4        849  Westernwear-Women  ",
      "text/html": "<div>\n<style scoped>\n    .dataframe tbody tr th:only-of-type {\n        vertical-align: middle;\n    }\n\n    .dataframe tbody tr th {\n        vertical-align: top;\n    }\n\n    .dataframe thead th {\n        text-align: right;\n    }\n</style>\n<table border=\"1\" class=\"dataframe\">\n  <thead>\n    <tr style=\"text-align: right;\">\n      <th></th>\n      <th>BrandName</th>\n      <th>Deatils</th>\n      <th>MRP</th>\n      <th>SellPrice</th>\n      <th>Category</th>\n    </tr>\n  </thead>\n  <tbody>\n    <tr>\n      <th>0</th>\n      <td>life</td>\n      <td>solid cotton blend collar neck womens a-line d...</td>\n      <td>1699</td>\n      <td>849</td>\n      <td>Westernwear-Women</td>\n    </tr>\n    <tr>\n      <th>1</th>\n      <td>only</td>\n      <td>polyester peter pan collar womens blouson dres...</td>\n      <td>3499</td>\n      <td>2449</td>\n      <td>Westernwear-Women</td>\n    </tr>\n    <tr>\n      <th>2</th>\n      <td>fratini</td>\n      <td>solid polyester blend wide neck womens regular...</td>\n      <td>1199</td>\n      <td>599</td>\n      <td>Westernwear-Women</td>\n    </tr>\n    <tr>\n      <th>3</th>\n      <td>zink london</td>\n      <td>stripes polyester sweetheart neck womens dress...</td>\n      <td>2299</td>\n      <td>1379</td>\n      <td>Westernwear-Women</td>\n    </tr>\n    <tr>\n      <th>4</th>\n      <td>life</td>\n      <td>regular fit regular length denim womens jeans ...</td>\n      <td>1699</td>\n      <td>849</td>\n      <td>Westernwear-Women</td>\n    </tr>\n  </tbody>\n</table>\n</div>"
     },
     "metadata": {}
    }
   ]
  },
  {
   "cell_type": "code",
   "metadata": {
    "cell_id": "e114d3843f1a4c018bb4fff823b0ed3e",
    "tags": [],
    "deepnote_to_be_reexecuted": false,
    "source_hash": "fa564a1b",
    "execution_start": 1660253083608,
    "execution_millis": 37,
    "deepnote_cell_type": "code",
    "deepnote_cell_height": 531
   },
   "source": "#revisando datos estadisticos.\ndf_A.describe()",
   "execution_count": 12,
   "outputs": [
    {
     "output_type": "execute_result",
     "execution_count": 12,
     "data": {
      "application/vnd.deepnote.dataframe.v3+json": {
       "column_count": 2,
       "row_count": 8,
       "columns": [
        {
         "name": "MRP",
         "dtype": "float64",
         "stats": {
          "unique_count": 8,
          "nan_count": 0,
          "min": "149.0",
          "max": "32995.0",
          "histogram": [
           {
            "bin_start": 149,
            "bin_end": 3433.6,
            "count": 6
           },
           {
            "bin_start": 3433.6,
            "bin_end": 6718.2,
            "count": 0
           },
           {
            "bin_start": 6718.2,
            "bin_end": 10002.8,
            "count": 0
           },
           {
            "bin_start": 10002.8,
            "bin_end": 13287.4,
            "count": 0
           },
           {
            "bin_start": 13287.4,
            "bin_end": 16572,
            "count": 0
           },
           {
            "bin_start": 16572,
            "bin_end": 19856.6,
            "count": 0
           },
           {
            "bin_start": 19856.6,
            "bin_end": 23141.2,
            "count": 1
           },
           {
            "bin_start": 23141.2,
            "bin_end": 26425.8,
            "count": 0
           },
           {
            "bin_start": 26425.8,
            "bin_end": 29710.399999999998,
            "count": 0
           },
           {
            "bin_start": 29710.399999999998,
            "bin_end": 32995,
            "count": 1
           }
          ]
         }
        },
        {
         "name": "SellPrice",
         "dtype": "float64",
         "stats": {
          "unique_count": 8,
          "nan_count": 0,
          "min": "74.0",
          "max": "23996.0",
          "histogram": [
           {
            "bin_start": 74,
            "bin_end": 2466.2,
            "count": 6
           },
           {
            "bin_start": 2466.2,
            "bin_end": 4858.4,
            "count": 0
           },
           {
            "bin_start": 4858.4,
            "bin_end": 7250.599999999999,
            "count": 0
           },
           {
            "bin_start": 7250.599999999999,
            "bin_end": 9642.8,
            "count": 0
           },
           {
            "bin_start": 9642.8,
            "bin_end": 12035,
            "count": 0
           },
           {
            "bin_start": 12035,
            "bin_end": 14427.199999999999,
            "count": 0
           },
           {
            "bin_start": 14427.199999999999,
            "bin_end": 16819.399999999998,
            "count": 0
           },
           {
            "bin_start": 16819.399999999998,
            "bin_end": 19211.6,
            "count": 0
           },
           {
            "bin_start": 19211.6,
            "bin_end": 21603.8,
            "count": 0
           },
           {
            "bin_start": 21603.8,
            "bin_end": 23996,
            "count": 2
           }
          ]
         }
        },
        {
         "name": "_deepnote_index_column",
         "dtype": "object"
        }
       ],
       "rows": [
        {
         "MRP": 22550,
         "SellPrice": 22550,
         "_deepnote_index_column": "count"
        },
        {
         "MRP": 2644.6772949002216,
         "SellPrice": 1472.929268292683,
         "_deepnote_index_column": "mean"
        },
        {
         "MRP": 2322.4991862277593,
         "SellPrice": 1567.1852947600808,
         "_deepnote_index_column": "std"
        },
        {
         "MRP": 149,
         "SellPrice": 74,
         "_deepnote_index_column": "min"
        },
        {
         "MRP": 1399,
         "SellPrice": 699,
         "_deepnote_index_column": "25%"
        },
        {
         "MRP": 1999,
         "SellPrice": 1079,
         "_deepnote_index_column": "50%"
        },
        {
         "MRP": 3099,
         "SellPrice": 1749,
         "_deepnote_index_column": "75%"
        },
        {
         "MRP": 32995,
         "SellPrice": 23996,
         "_deepnote_index_column": "max"
        }
       ]
      },
      "text/plain": "                MRP     SellPrice\ncount  22550.000000  22550.000000\nmean    2644.677295   1472.929268\nstd     2322.499186   1567.185295\nmin      149.000000     74.000000\n25%     1399.000000    699.000000\n50%     1999.000000   1079.000000\n75%     3099.000000   1749.000000\nmax    32995.000000  23996.000000",
      "text/html": "<div>\n<style scoped>\n    .dataframe tbody tr th:only-of-type {\n        vertical-align: middle;\n    }\n\n    .dataframe tbody tr th {\n        vertical-align: top;\n    }\n\n    .dataframe thead th {\n        text-align: right;\n    }\n</style>\n<table border=\"1\" class=\"dataframe\">\n  <thead>\n    <tr style=\"text-align: right;\">\n      <th></th>\n      <th>MRP</th>\n      <th>SellPrice</th>\n    </tr>\n  </thead>\n  <tbody>\n    <tr>\n      <th>count</th>\n      <td>22550.000000</td>\n      <td>22550.000000</td>\n    </tr>\n    <tr>\n      <th>mean</th>\n      <td>2644.677295</td>\n      <td>1472.929268</td>\n    </tr>\n    <tr>\n      <th>std</th>\n      <td>2322.499186</td>\n      <td>1567.185295</td>\n    </tr>\n    <tr>\n      <th>min</th>\n      <td>149.000000</td>\n      <td>74.000000</td>\n    </tr>\n    <tr>\n      <th>25%</th>\n      <td>1399.000000</td>\n      <td>699.000000</td>\n    </tr>\n    <tr>\n      <th>50%</th>\n      <td>1999.000000</td>\n      <td>1079.000000</td>\n    </tr>\n    <tr>\n      <th>75%</th>\n      <td>3099.000000</td>\n      <td>1749.000000</td>\n    </tr>\n    <tr>\n      <th>max</th>\n      <td>32995.000000</td>\n      <td>23996.000000</td>\n    </tr>\n  </tbody>\n</table>\n</div>"
     },
     "metadata": {}
    }
   ]
  },
  {
   "cell_type": "markdown",
   "source": "## Análisis de ganancias antes y después del descuento",
   "metadata": {
    "formattedRanges": [],
    "is_collapsed": false,
    "cell_id": "e2979e9ebd6643939f66596aee18e56b",
    "tags": [],
    "deepnote_cell_type": "text-cell-h2"
   }
  },
  {
   "cell_type": "code",
   "metadata": {
    "cell_id": "c0ff5c3c34764707881776eaf80c3a99",
    "tags": [],
    "deepnote_to_be_reexecuted": false,
    "source_hash": "b387721",
    "execution_start": 1660253083705,
    "execution_millis": 10576668,
    "deepnote_cell_type": "code",
    "deepnote_cell_height": 265.578125,
    "deepnote_output_heights": [
     155.59375
    ]
   },
   "source": "#Viendo las categorias\ndf_A['Category'].value_counts()",
   "execution_count": 13,
   "outputs": [
    {
     "output_type": "execute_result",
     "execution_count": 13,
     "data": {
      "text/plain": "Indianwear-Women            8292\nWesternwear-Women           8278\nLingerie&Nightwear-Women    2093\nFootwear-Women              1638\nJewellery-Women             1086\nWatches-Women                976\nFragrance-Women              187\nName: Category, dtype: int64"
     },
     "metadata": {}
    }
   ]
  },
  {
   "cell_type": "code",
   "metadata": {
    "cell_id": "defb902e73db48e18196ada5ca7e85d8",
    "tags": [],
    "deepnote_to_be_reexecuted": false,
    "source_hash": "9ed54526",
    "execution_start": 1660253083706,
    "execution_millis": 29,
    "deepnote_table_state": {
     "pageSize": 10,
     "pageIndex": 0,
     "filters": [],
     "sortBy": []
    },
    "deepnote_table_loading": false,
    "deepnote_cell_type": "code",
    "deepnote_cell_height": 490
   },
   "source": "dfgan =df_A.groupby('Category').sum().reset_index()\ndfgan",
   "execution_count": 14,
   "outputs": [
    {
     "output_type": "execute_result",
     "execution_count": 14,
     "data": {
      "application/vnd.deepnote.dataframe.v3+json": {
       "column_count": 3,
       "row_count": 7,
       "columns": [
        {
         "name": "Category",
         "dtype": "object",
         "stats": {
          "unique_count": 7,
          "nan_count": 0,
          "categories": [
           {
            "name": "Footwear-Women",
            "count": 1
           },
           {
            "name": "Fragrance-Women",
            "count": 1
           },
           {
            "name": "5 others",
            "count": 5
           }
          ]
         }
        },
        {
         "name": "MRP",
         "dtype": "int64",
         "stats": {
          "unique_count": 7,
          "nan_count": 0,
          "min": "708112",
          "max": "23399079",
          "histogram": [
           {
            "bin_start": 708112,
            "bin_end": 2977208.7,
            "count": 3
           },
           {
            "bin_start": 2977208.7,
            "bin_end": 5246305.4,
            "count": 1
           },
           {
            "bin_start": 5246305.4,
            "bin_end": 7515402.100000001,
            "count": 0
           },
           {
            "bin_start": 7515402.100000001,
            "bin_end": 9784498.8,
            "count": 1
           },
           {
            "bin_start": 9784498.8,
            "bin_end": 12053595.5,
            "count": 0
           },
           {
            "bin_start": 12053595.5,
            "bin_end": 14322692.200000001,
            "count": 0
           },
           {
            "bin_start": 14322692.200000001,
            "bin_end": 16591788.900000002,
            "count": 0
           },
           {
            "bin_start": 16591788.900000002,
            "bin_end": 18860885.6,
            "count": 1
           },
           {
            "bin_start": 18860885.6,
            "bin_end": 21129982.3,
            "count": 0
           },
           {
            "bin_start": 21129982.3,
            "bin_end": 23399079,
            "count": 1
           }
          ]
         }
        },
        {
         "name": "SellPrice",
         "dtype": "int64",
         "stats": {
          "unique_count": 7,
          "nan_count": 0,
          "min": "562713",
          "max": "11189242",
          "histogram": [
           {
            "bin_start": 562713,
            "bin_end": 1625365.9,
            "count": 3
           },
           {
            "bin_start": 1625365.9,
            "bin_end": 2688018.8,
            "count": 0
           },
           {
            "bin_start": 2688018.8,
            "bin_end": 3750671.6999999997,
            "count": 1
           },
           {
            "bin_start": 3750671.6999999997,
            "bin_end": 4813324.6,
            "count": 0
           },
           {
            "bin_start": 4813324.6,
            "bin_end": 5875977.5,
            "count": 0
           },
           {
            "bin_start": 5875977.5,
            "bin_end": 6938630.399999999,
            "count": 1
           },
           {
            "bin_start": 6938630.399999999,
            "bin_end": 8001283.299999999,
            "count": 0
           },
           {
            "bin_start": 8001283.299999999,
            "bin_end": 9063936.2,
            "count": 0
           },
           {
            "bin_start": 9063936.2,
            "bin_end": 10126589.1,
            "count": 1
           },
           {
            "bin_start": 10126589.1,
            "bin_end": 11189242,
            "count": 1
           }
          ]
         }
        },
        {
         "name": "_deepnote_index_column",
         "dtype": "int64"
        }
       ],
       "rows": [
        {
         "Category": "Footwear-Women",
         "MRP": 4488829,
         "SellPrice": 2730740,
         "_deepnote_index_column": 0
        },
        {
         "Category": "Fragrance-Women",
         "MRP": 708112,
         "SellPrice": 562713,
         "_deepnote_index_column": 1
        },
        {
         "Category": "Indianwear-Women",
         "MRP": 23399079,
         "SellPrice": 11189242,
         "_deepnote_index_column": 2
        },
        {
         "Category": "Jewellery-Women",
         "MRP": 2455875,
         "SellPrice": 1513068,
         "_deepnote_index_column": 3
        },
        {
         "Category": "Lingerie&Nightwear-Women",
         "MRP": 2639460,
         "SellPrice": 1556506,
         "_deepnote_index_column": 4
        },
        {
         "Category": "Watches-Women",
         "MRP": 9329732,
         "SellPrice": 6031822,
         "_deepnote_index_column": 5
        },
        {
         "Category": "Westernwear-Women",
         "MRP": 16616386,
         "SellPrice": 9630464,
         "_deepnote_index_column": 6
        }
       ]
      },
      "text/plain": "                   Category       MRP  SellPrice\n0            Footwear-Women   4488829    2730740\n1           Fragrance-Women    708112     562713\n2          Indianwear-Women  23399079   11189242\n3           Jewellery-Women   2455875    1513068\n4  Lingerie&Nightwear-Women   2639460    1556506\n5             Watches-Women   9329732    6031822\n6         Westernwear-Women  16616386    9630464",
      "text/html": "<div>\n<style scoped>\n    .dataframe tbody tr th:only-of-type {\n        vertical-align: middle;\n    }\n\n    .dataframe tbody tr th {\n        vertical-align: top;\n    }\n\n    .dataframe thead th {\n        text-align: right;\n    }\n</style>\n<table border=\"1\" class=\"dataframe\">\n  <thead>\n    <tr style=\"text-align: right;\">\n      <th></th>\n      <th>Category</th>\n      <th>MRP</th>\n      <th>SellPrice</th>\n    </tr>\n  </thead>\n  <tbody>\n    <tr>\n      <th>0</th>\n      <td>Footwear-Women</td>\n      <td>4488829</td>\n      <td>2730740</td>\n    </tr>\n    <tr>\n      <th>1</th>\n      <td>Fragrance-Women</td>\n      <td>708112</td>\n      <td>562713</td>\n    </tr>\n    <tr>\n      <th>2</th>\n      <td>Indianwear-Women</td>\n      <td>23399079</td>\n      <td>11189242</td>\n    </tr>\n    <tr>\n      <th>3</th>\n      <td>Jewellery-Women</td>\n      <td>2455875</td>\n      <td>1513068</td>\n    </tr>\n    <tr>\n      <th>4</th>\n      <td>Lingerie&amp;Nightwear-Women</td>\n      <td>2639460</td>\n      <td>1556506</td>\n    </tr>\n    <tr>\n      <th>5</th>\n      <td>Watches-Women</td>\n      <td>9329732</td>\n      <td>6031822</td>\n    </tr>\n    <tr>\n      <th>6</th>\n      <td>Westernwear-Women</td>\n      <td>16616386</td>\n      <td>9630464</td>\n    </tr>\n  </tbody>\n</table>\n</div>"
     },
     "metadata": {}
    }
   ]
  },
  {
   "cell_type": "code",
   "metadata": {
    "cell_id": "99a915a668524cbd914035d70d7c7c76",
    "tags": [],
    "deepnote_to_be_reexecuted": false,
    "source_hash": "d17db4a0",
    "execution_start": 1660253083743,
    "execution_millis": 373,
    "deepnote_cell_type": "code",
    "deepnote_cell_height": 420.6875,
    "deepnote_output_heights": [
     274.703125
    ]
   },
   "source": "plt.figure(figsize=(18,5))\nsns.barplot(x =dfgan['Category'] , y = dfgan['MRP'])\nplt.title('Ganacia por categoria antes del descuento ')\nplt.show()",
   "execution_count": 15,
   "outputs": [
    {
     "data": {
      "text/plain": "<Figure size 1296x360 with 1 Axes>",
      "image/png": "[encoded data removed]"
     },
     "metadata": {
      "needs_background": "light",
      "image/png": {
       "width": 1055,
       "height": 333
      }
     },
     "output_type": "display_data"
    }
   ]
  },
  {
   "cell_type": "code",
   "metadata": {
    "cell_id": "5e68c548421f4906a93e46b2d26b5f77",
    "tags": [],
    "deepnote_to_be_reexecuted": false,
    "source_hash": "7e0881b2",
    "execution_start": 1660253084130,
    "execution_millis": 286,
    "deepnote_cell_type": "code",
    "deepnote_cell_height": 420.6875,
    "deepnote_output_heights": [
     274.703125
    ]
   },
   "source": "plt.figure(figsize=(18,5))\nsns.barplot(x =dfgan['Category'] , y = dfgan['SellPrice'])\nplt.title('Ganacia por categoria luego del descuento ')\nplt.show()",
   "execution_count": 16,
   "outputs": [
    {
     "data": {
      "text/plain": "<Figure size 1296x360 with 1 Axes>",
      "image/png": "[encoded data removed]"
     },
     "metadata": {
      "needs_background": "light",
      "image/png": {
       "width": 1055,
       "height": 333
      }
     },
     "output_type": "display_data"
    }
   ]
  },
  {
   "cell_type": "markdown",
   "source": "Podemos ver que las categorias que mas ganancia generaron para el E-commerce fueron 3",
   "metadata": {
    "formattedRanges": [],
    "is_collapsed": false,
    "cell_id": "8034c86567ea40ffb5929288f62a955f",
    "tags": [],
    "deepnote_cell_type": "text-cell-p"
   }
  },
  {
   "cell_type": "markdown",
   "source": "- Indianwear-Women",
   "metadata": {
    "formattedRanges": [],
    "is_collapsed": false,
    "cell_id": "4e88afcc0aeb488488af9bf7a695f3bd",
    "tags": [],
    "deepnote_cell_type": "text-cell-bullet"
   }
  },
  {
   "cell_type": "markdown",
   "source": "- Westernwear-Women",
   "metadata": {
    "formattedRanges": [],
    "is_collapsed": false,
    "cell_id": "ad947519-fa63-4b25-aabe-cfb08efb2901",
    "tags": [],
    "deepnote_cell_type": "text-cell-bullet"
   }
  },
  {
   "cell_type": "markdown",
   "source": "- Watches-Women",
   "metadata": {
    "formattedRanges": [],
    "is_collapsed": false,
    "cell_id": "e1a1f006-70ed-4692-81f2-0e361648b21c",
    "tags": [],
    "deepnote_cell_type": "text-cell-bullet"
   }
  },
  {
   "cell_type": "markdown",
   "source": "Algo que también pudimos observar, es que aunque estas 3 fueron las categorías que mas dieron beneficio, el mismo se vio fuertemente disminuido luego de los descuentos.",
   "metadata": {
    "formattedRanges": [],
    "is_collapsed": false,
    "cell_id": "f038990658ec498a94d00a3aa791488a",
    "tags": [],
    "deepnote_cell_type": "text-cell-p"
   }
  },
  {
   "cell_type": "code",
   "metadata": {
    "cell_id": "49dddb8016e944dcb7548624b55c7a6b",
    "tags": [],
    "deepnote_to_be_reexecuted": false,
    "source_hash": "f410d375",
    "execution_start": 1660253084458,
    "execution_millis": 2,
    "deepnote_cell_type": "code",
    "deepnote_cell_height": 508
   },
   "source": "#Resta de MRP - SellPrice\ndfgan['MRP-SellPrice'] = dfgan['MRP'] - dfgan['SellPrice']\ndfgan",
   "execution_count": 17,
   "outputs": [
    {
     "output_type": "execute_result",
     "execution_count": 17,
     "data": {
      "application/vnd.deepnote.dataframe.v3+json": {
       "column_count": 4,
       "row_count": 7,
       "columns": [
        {
         "name": "Category",
         "dtype": "object",
         "stats": {
          "unique_count": 7,
          "nan_count": 0,
          "categories": [
           {
            "name": "Footwear-Women",
            "count": 1
           },
           {
            "name": "Fragrance-Women",
            "count": 1
           },
           {
            "name": "5 others",
            "count": 5
           }
          ]
         }
        },
        {
         "name": "MRP",
         "dtype": "int64",
         "stats": {
          "unique_count": 7,
          "nan_count": 0,
          "min": "708112",
          "max": "23399079",
          "histogram": [
           {
            "bin_start": 708112,
            "bin_end": 2977208.7,
            "count": 3
           },
           {
            "bin_start": 2977208.7,
            "bin_end": 5246305.4,
            "count": 1
           },
           {
            "bin_start": 5246305.4,
            "bin_end": 7515402.100000001,
            "count": 0
           },
           {
            "bin_start": 7515402.100000001,
            "bin_end": 9784498.8,
            "count": 1
           },
           {
            "bin_start": 9784498.8,
            "bin_end": 12053595.5,
            "count": 0
           },
           {
            "bin_start": 12053595.5,
            "bin_end": 14322692.200000001,
            "count": 0
           },
           {
            "bin_start": 14322692.200000001,
            "bin_end": 16591788.900000002,
            "count": 0
           },
           {
            "bin_start": 16591788.900000002,
            "bin_end": 18860885.6,
            "count": 1
           },
           {
            "bin_start": 18860885.6,
            "bin_end": 21129982.3,
            "count": 0
           },
           {
            "bin_start": 21129982.3,
            "bin_end": 23399079,
            "count": 1
           }
          ]
         }
        },
        {
         "name": "SellPrice",
         "dtype": "int64",
         "stats": {
          "unique_count": 7,
          "nan_count": 0,
          "min": "562713",
          "max": "11189242",
          "histogram": [
           {
            "bin_start": 562713,
            "bin_end": 1625365.9,
            "count": 3
           },
           {
            "bin_start": 1625365.9,
            "bin_end": 2688018.8,
            "count": 0
           },
           {
            "bin_start": 2688018.8,
            "bin_end": 3750671.6999999997,
            "count": 1
           },
           {
            "bin_start": 3750671.6999999997,
            "bin_end": 4813324.6,
            "count": 0
           },
           {
            "bin_start": 4813324.6,
            "bin_end": 5875977.5,
            "count": 0
           },
           {
            "bin_start": 5875977.5,
            "bin_end": 6938630.399999999,
            "count": 1
           },
           {
            "bin_start": 6938630.399999999,
            "bin_end": 8001283.299999999,
            "count": 0
           },
           {
            "bin_start": 8001283.299999999,
            "bin_end": 9063936.2,
            "count": 0
           },
           {
            "bin_start": 9063936.2,
            "bin_end": 10126589.1,
            "count": 1
           },
           {
            "bin_start": 10126589.1,
            "bin_end": 11189242,
            "count": 1
           }
          ]
         }
        },
        {
         "name": "MRP-SellPrice",
         "dtype": "int64",
         "stats": {
          "unique_count": 7,
          "nan_count": 0,
          "min": "145399",
          "max": "12209837",
          "histogram": [
           {
            "bin_start": 145399,
            "bin_end": 1351842.8,
            "count": 3
           },
           {
            "bin_start": 1351842.8,
            "bin_end": 2558286.6,
            "count": 1
           },
           {
            "bin_start": 2558286.6,
            "bin_end": 3764730.4000000004,
            "count": 1
           },
           {
            "bin_start": 3764730.4000000004,
            "bin_end": 4971174.2,
            "count": 0
           },
           {
            "bin_start": 4971174.2,
            "bin_end": 6177618,
            "count": 0
           },
           {
            "bin_start": 6177618,
            "bin_end": 7384061.800000001,
            "count": 1
           },
           {
            "bin_start": 7384061.800000001,
            "bin_end": 8590505.6,
            "count": 0
           },
           {
            "bin_start": 8590505.6,
            "bin_end": 9796949.4,
            "count": 0
           },
           {
            "bin_start": 9796949.4,
            "bin_end": 11003393.200000001,
            "count": 0
           },
           {
            "bin_start": 11003393.200000001,
            "bin_end": 12209837,
            "count": 1
           }
          ]
         }
        },
        {
         "name": "_deepnote_index_column",
         "dtype": "int64"
        }
       ],
       "rows": [
        {
         "Category": "Footwear-Women",
         "MRP": 4488829,
         "SellPrice": 2730740,
         "MRP-SellPrice": 1758089,
         "_deepnote_index_column": 0
        },
        {
         "Category": "Fragrance-Women",
         "MRP": 708112,
         "SellPrice": 562713,
         "MRP-SellPrice": 145399,
         "_deepnote_index_column": 1
        },
        {
         "Category": "Indianwear-Women",
         "MRP": 23399079,
         "SellPrice": 11189242,
         "MRP-SellPrice": 12209837,
         "_deepnote_index_column": 2
        },
        {
         "Category": "Jewellery-Women",
         "MRP": 2455875,
         "SellPrice": 1513068,
         "MRP-SellPrice": 942807,
         "_deepnote_index_column": 3
        },
        {
         "Category": "Lingerie&Nightwear-Women",
         "MRP": 2639460,
         "SellPrice": 1556506,
         "MRP-SellPrice": 1082954,
         "_deepnote_index_column": 4
        },
        {
         "Category": "Watches-Women",
         "MRP": 9329732,
         "SellPrice": 6031822,
         "MRP-SellPrice": 3297910,
         "_deepnote_index_column": 5
        },
        {
         "Category": "Westernwear-Women",
         "MRP": 16616386,
         "SellPrice": 9630464,
         "MRP-SellPrice": 6985922,
         "_deepnote_index_column": 6
        }
       ]
      },
      "text/plain": "                   Category       MRP  SellPrice  MRP-SellPrice\n0            Footwear-Women   4488829    2730740        1758089\n1           Fragrance-Women    708112     562713         145399\n2          Indianwear-Women  23399079   11189242       12209837\n3           Jewellery-Women   2455875    1513068         942807\n4  Lingerie&Nightwear-Women   2639460    1556506        1082954\n5             Watches-Women   9329732    6031822        3297910\n6         Westernwear-Women  16616386    9630464        6985922",
      "text/html": "<div>\n<style scoped>\n    .dataframe tbody tr th:only-of-type {\n        vertical-align: middle;\n    }\n\n    .dataframe tbody tr th {\n        vertical-align: top;\n    }\n\n    .dataframe thead th {\n        text-align: right;\n    }\n</style>\n<table border=\"1\" class=\"dataframe\">\n  <thead>\n    <tr style=\"text-align: right;\">\n      <th></th>\n      <th>Category</th>\n      <th>MRP</th>\n      <th>SellPrice</th>\n      <th>MRP-SellPrice</th>\n    </tr>\n  </thead>\n  <tbody>\n    <tr>\n      <th>0</th>\n      <td>Footwear-Women</td>\n      <td>4488829</td>\n      <td>2730740</td>\n      <td>1758089</td>\n    </tr>\n    <tr>\n      <th>1</th>\n      <td>Fragrance-Women</td>\n      <td>708112</td>\n      <td>562713</td>\n      <td>145399</td>\n    </tr>\n    <tr>\n      <th>2</th>\n      <td>Indianwear-Women</td>\n      <td>23399079</td>\n      <td>11189242</td>\n      <td>12209837</td>\n    </tr>\n    <tr>\n      <th>3</th>\n      <td>Jewellery-Women</td>\n      <td>2455875</td>\n      <td>1513068</td>\n      <td>942807</td>\n    </tr>\n    <tr>\n      <th>4</th>\n      <td>Lingerie&amp;Nightwear-Women</td>\n      <td>2639460</td>\n      <td>1556506</td>\n      <td>1082954</td>\n    </tr>\n    <tr>\n      <th>5</th>\n      <td>Watches-Women</td>\n      <td>9329732</td>\n      <td>6031822</td>\n      <td>3297910</td>\n    </tr>\n    <tr>\n      <th>6</th>\n      <td>Westernwear-Women</td>\n      <td>16616386</td>\n      <td>9630464</td>\n      <td>6985922</td>\n    </tr>\n  </tbody>\n</table>\n</div>"
     },
     "metadata": {}
    }
   ]
  },
  {
   "cell_type": "markdown",
   "source": "Tomando otra vez las 3 categorías principales, podemos ver la cantidad de beneficio que se perdió en cada categoria.",
   "metadata": {
    "formattedRanges": [],
    "is_collapsed": false,
    "cell_id": "2f80ff6029b040508ee4258965a668ba",
    "tags": [],
    "deepnote_cell_type": "text-cell-p"
   }
  },
  {
   "cell_type": "markdown",
   "source": "- Indianwear-Women  perdio un total de 12.209.837$",
   "metadata": {
    "formattedRanges": [],
    "is_collapsed": false,
    "cell_id": "5d2a8cc0-1412-4e7d-a543-6adea697c4ef",
    "tags": [],
    "deepnote_cell_type": "text-cell-bullet"
   }
  },
  {
   "cell_type": "markdown",
   "source": "- Westernwear-Women perdio un total de 6.985.922$",
   "metadata": {
    "formattedRanges": [],
    "is_collapsed": false,
    "cell_id": "145e4f2e-d4e5-4051-b18a-c6820a85da1e",
    "tags": [],
    "deepnote_cell_type": "text-cell-bullet"
   }
  },
  {
   "cell_type": "markdown",
   "source": "- Watches-Women perdio un total de 3.297.910$",
   "metadata": {
    "formattedRanges": [],
    "is_collapsed": false,
    "cell_id": "76f95a0d-035c-4503-87f8-ee640b7a622a",
    "tags": [],
    "deepnote_cell_type": "text-cell-bullet"
   }
  },
  {
   "cell_type": "markdown",
   "source": "Aunque el beneficio en si es muy grande, abría que revisar que tan rentable es esto para el E-commerce en cuestión o ver que otras estrategias podrían usarse para disminuir el uso de descuentos en los productos.",
   "metadata": {
    "formattedRanges": [],
    "is_collapsed": false,
    "cell_id": "5fae5bed-4506-4d21-ae02-b56e51b84cb6",
    "tags": [],
    "deepnote_cell_type": "text-cell-p"
   }
  },
  {
   "cell_type": "markdown",
   "source": "## Análisis de ganancias por marca",
   "metadata": {
    "formattedRanges": [],
    "is_collapsed": false,
    "cell_id": "3e9b8112b2844af88ad086ce59f26954",
    "tags": [],
    "deepnote_cell_type": "text-cell-h2"
   }
  },
  {
   "cell_type": "code",
   "metadata": {
    "cell_id": "38d4cf8c16f047ab838158ae8c0c365a",
    "tags": [],
    "deepnote_to_be_reexecuted": false,
    "source_hash": "2ca0f536",
    "execution_start": 1660253084459,
    "execution_millis": 113,
    "deepnote_cell_type": "code",
    "deepnote_cell_height": 595
   },
   "source": "df_A",
   "execution_count": 18,
   "outputs": [
    {
     "output_type": "execute_result",
     "execution_count": 18,
     "data": {
      "application/vnd.deepnote.dataframe.v3+json": {
       "column_count": 5,
       "row_count": 22550,
       "columns": [
        {
         "name": "BrandName",
         "dtype": "object",
         "stats": {
          "unique_count": 177,
          "nan_count": 0,
          "categories": [
           {
            "name": "vastranand",
            "count": 1541
           },
           {
            "name": "zink london",
            "count": 918
           },
           {
            "name": "175 others",
            "count": 20091
           }
          ]
         }
        },
        {
         "name": "Deatils",
         "dtype": "object",
         "stats": {
          "unique_count": 18210,
          "nan_count": 0,
          "categories": [
           {
            "name": "kanchipuram weave zari border and rich zari pallu with contrast blouse piece - multi",
            "count": 42
           },
           {
            "name": "synthetic womens casual sandals - black",
            "count": 36
           },
           {
            "name": "18208 others",
            "count": 22472
           }
          ]
         }
        },
        {
         "name": "MRP",
         "dtype": "int64",
         "stats": {
          "unique_count": 1096,
          "nan_count": 0,
          "min": "149",
          "max": "32995",
          "histogram": [
           {
            "bin_start": 149,
            "bin_end": 3433.6,
            "count": 17479
           },
           {
            "bin_start": 3433.6,
            "bin_end": 6718.2,
            "count": 4127
           },
           {
            "bin_start": 6718.2,
            "bin_end": 10002.8,
            "count": 568
           },
           {
            "bin_start": 10002.8,
            "bin_end": 13287.4,
            "count": 180
           },
           {
            "bin_start": 13287.4,
            "bin_end": 16572,
            "count": 106
           },
           {
            "bin_start": 16572,
            "bin_end": 19856.6,
            "count": 35
           },
           {
            "bin_start": 19856.6,
            "bin_end": 23141.2,
            "count": 29
           },
           {
            "bin_start": 23141.2,
            "bin_end": 26425.8,
            "count": 17
           },
           {
            "bin_start": 26425.8,
            "bin_end": 29710.399999999998,
            "count": 2
           },
           {
            "bin_start": 29710.399999999998,
            "bin_end": 32995,
            "count": 7
           }
          ]
         }
        },
        {
         "name": "SellPrice",
         "dtype": "int64",
         "stats": {
          "unique_count": 1683,
          "nan_count": 0,
          "min": "74",
          "max": "23996",
          "histogram": [
           {
            "bin_start": 74,
            "bin_end": 2466.2,
            "count": 20004
           },
           {
            "bin_start": 2466.2,
            "bin_end": 4858.4,
            "count": 1854
           },
           {
            "bin_start": 4858.4,
            "bin_end": 7250.599999999999,
            "count": 405
           },
           {
            "bin_start": 7250.599999999999,
            "bin_end": 9642.8,
            "count": 142
           },
           {
            "bin_start": 9642.8,
            "bin_end": 12035,
            "count": 58
           },
           {
            "bin_start": 12035,
            "bin_end": 14427.199999999999,
            "count": 39
           },
           {
            "bin_start": 14427.199999999999,
            "bin_end": 16819.399999999998,
            "count": 14
           },
           {
            "bin_start": 16819.399999999998,
            "bin_end": 19211.6,
            "count": 16
           },
           {
            "bin_start": 19211.6,
            "bin_end": 21603.8,
            "count": 7
           },
           {
            "bin_start": 21603.8,
            "bin_end": 23996,
            "count": 11
           }
          ]
         }
        },
        {
         "name": "Category",
         "dtype": "object"
        },
        {
         "name": "_deepnote_index_column",
         "dtype": "int64"
        }
       ],
       "rows": [
        {
         "BrandName": "life",
         "Deatils": "solid cotton blend collar neck womens a-line dress - indigo",
         "MRP": 1699,
         "SellPrice": 849,
         "Category": "Westernwear-Women",
         "_deepnote_index_column": 0
        },
        {
         "BrandName": "only",
         "Deatils": "polyester peter pan collar womens blouson dress - yellow",
         "MRP": 3499,
         "SellPrice": 2449,
         "Category": "Westernwear-Women",
         "_deepnote_index_column": 1
        },
        {
         "BrandName": "fratini",
         "Deatils": "solid polyester blend wide neck womens regular top - off white",
         "MRP": 1199,
         "SellPrice": 599,
         "Category": "Westernwear-Women",
         "_deepnote_index_column": 2
        },
        {
         "BrandName": "zink london",
         "Deatils": "stripes polyester sweetheart neck womens dress - black",
         "MRP": 2299,
         "SellPrice": 1379,
         "Category": "Westernwear-Women",
         "_deepnote_index_column": 3
        },
        {
         "BrandName": "life",
         "Deatils": "regular fit regular length denim womens jeans - stone",
         "MRP": 1699,
         "SellPrice": 849,
         "Category": "Westernwear-Women",
         "_deepnote_index_column": 4
        },
        {
         "BrandName": "kraus",
         "Deatils": "wide ankle length cotton womens jeans - light blue",
         "MRP": 1795,
         "SellPrice": 1615,
         "Category": "Westernwear-Women",
         "_deepnote_index_column": 5
        },
        {
         "BrandName": "life",
         "Deatils": "printed cotton blend collared womens regular dress - white",
         "MRP": 1299,
         "SellPrice": 649,
         "Category": "Westernwear-Women",
         "_deepnote_index_column": 6
        },
        {
         "BrandName": "fratini",
         "Deatils": "embroidered wide neck polyester womens regular top - blush",
         "MRP": 1299,
         "SellPrice": 649,
         "Category": "Westernwear-Women",
         "_deepnote_index_column": 7
        },
        {
         "BrandName": "rare",
         "Deatils": "floral polyester v neck womens flared dress - navy",
         "MRP": 2099,
         "SellPrice": 839,
         "Category": "Westernwear-Women",
         "_deepnote_index_column": 8
        },
        {
         "BrandName": "rare",
         "Deatils": "checks cotton boat neck womens regular top - black",
         "MRP": 1499,
         "SellPrice": 599,
         "Category": "Westernwear-Women",
         "_deepnote_index_column": 9
        }
       ]
      },
      "text/plain": "          BrandName                                            Deatils   MRP  \\\n0              life  solid cotton blend collar neck womens a-line d...  1699   \n1              only  polyester peter pan collar womens blouson dres...  3499   \n2           fratini  solid polyester blend wide neck womens regular...  1199   \n3       zink london  stripes polyester sweetheart neck womens dress...  2299   \n4              life  regular fit regular length denim womens jeans ...  1699   \n...             ...                                                ...   ...   \n30746        jewelz     beautiful white crystal silver plated earrings  1739   \n30747        ayesha  womens metallic gold statement multilayered ch...   798   \n30748        jewelz  nine pieces combo fashion non-precious metal b...  1339   \n30749  pretty women                          womens pearl golden drops   449   \n30755        jewelz                 ethnic gold plated jhumki earrings  1839   \n\n       SellPrice           Category  \n0            849  Westernwear-Women  \n1           2449  Westernwear-Women  \n2            599  Westernwear-Women  \n3           1379  Westernwear-Women  \n4            849  Westernwear-Women  \n...          ...                ...  \n30746        608    Jewellery-Women  \n30747        399    Jewellery-Women  \n30748        468    Jewellery-Women  \n30749        381    Jewellery-Women  \n30755        643    Jewellery-Women  \n\n[22550 rows x 5 columns]",
      "text/html": "<div>\n<style scoped>\n    .dataframe tbody tr th:only-of-type {\n        vertical-align: middle;\n    }\n\n    .dataframe tbody tr th {\n        vertical-align: top;\n    }\n\n    .dataframe thead th {\n        text-align: right;\n    }\n</style>\n<table border=\"1\" class=\"dataframe\">\n  <thead>\n    <tr style=\"text-align: right;\">\n      <th></th>\n      <th>BrandName</th>\n      <th>Deatils</th>\n      <th>MRP</th>\n      <th>SellPrice</th>\n      <th>Category</th>\n    </tr>\n  </thead>\n  <tbody>\n    <tr>\n      <th>0</th>\n      <td>life</td>\n      <td>solid cotton blend collar neck womens a-line d...</td>\n      <td>1699</td>\n      <td>849</td>\n      <td>Westernwear-Women</td>\n    </tr>\n    <tr>\n      <th>1</th>\n      <td>only</td>\n      <td>polyester peter pan collar womens blouson dres...</td>\n      <td>3499</td>\n      <td>2449</td>\n      <td>Westernwear-Women</td>\n    </tr>\n    <tr>\n      <th>2</th>\n      <td>fratini</td>\n      <td>solid polyester blend wide neck womens regular...</td>\n      <td>1199</td>\n      <td>599</td>\n      <td>Westernwear-Women</td>\n    </tr>\n    <tr>\n      <th>3</th>\n      <td>zink london</td>\n      <td>stripes polyester sweetheart neck womens dress...</td>\n      <td>2299</td>\n      <td>1379</td>\n      <td>Westernwear-Women</td>\n    </tr>\n    <tr>\n      <th>4</th>\n      <td>life</td>\n      <td>regular fit regular length denim womens jeans ...</td>\n      <td>1699</td>\n      <td>849</td>\n      <td>Westernwear-Women</td>\n    </tr>\n    <tr>\n      <th>...</th>\n      <td>...</td>\n      <td>...</td>\n      <td>...</td>\n      <td>...</td>\n      <td>...</td>\n    </tr>\n    <tr>\n      <th>30746</th>\n      <td>jewelz</td>\n      <td>beautiful white crystal silver plated earrings</td>\n      <td>1739</td>\n      <td>608</td>\n      <td>Jewellery-Women</td>\n    </tr>\n    <tr>\n      <th>30747</th>\n      <td>ayesha</td>\n      <td>womens metallic gold statement multilayered ch...</td>\n      <td>798</td>\n      <td>399</td>\n      <td>Jewellery-Women</td>\n    </tr>\n    <tr>\n      <th>30748</th>\n      <td>jewelz</td>\n      <td>nine pieces combo fashion non-precious metal b...</td>\n      <td>1339</td>\n      <td>468</td>\n      <td>Jewellery-Women</td>\n    </tr>\n    <tr>\n      <th>30749</th>\n      <td>pretty women</td>\n      <td>womens pearl golden drops</td>\n      <td>449</td>\n      <td>381</td>\n      <td>Jewellery-Women</td>\n    </tr>\n    <tr>\n      <th>30755</th>\n      <td>jewelz</td>\n      <td>ethnic gold plated jhumki earrings</td>\n      <td>1839</td>\n      <td>643</td>\n      <td>Jewellery-Women</td>\n    </tr>\n  </tbody>\n</table>\n<p>22550 rows × 5 columns</p>\n</div>"
     },
     "metadata": {}
    }
   ]
  },
  {
   "cell_type": "code",
   "metadata": {
    "cell_id": "0a9947d4da31493d81155909cdfcaabf",
    "tags": [],
    "deepnote_to_be_reexecuted": false,
    "source_hash": "cce9331a",
    "execution_start": 1660253084579,
    "execution_millis": 13,
    "deepnote_cell_type": "code",
    "deepnote_cell_height": 324.375,
    "deepnote_output_heights": [
     232.390625
    ]
   },
   "source": "df_A['BrandName'].value_counts()",
   "execution_count": 19,
   "outputs": [
    {
     "output_type": "execute_result",
     "execution_count": 19,
     "data": {
      "text/plain": "vastranand           1541\nzink london           918\nglobal desi           819\njanasya               751\nstop                  722\n                     ... \nindian terrain          1\nunknown by ayesha       1\ned hardy                1\nmothercare              1\nelliza donatein         1\nName: BrandName, Length: 177, dtype: int64"
     },
     "metadata": {}
    }
   ]
  },
  {
   "cell_type": "code",
   "metadata": {
    "cell_id": "2b2958320e214c94a844eb79b48add8e",
    "tags": [],
    "deepnote_to_be_reexecuted": false,
    "source_hash": "1690e4e1",
    "execution_start": 1660253084600,
    "execution_millis": 50,
    "deepnote_table_state": {
     "pageSize": 10,
     "pageIndex": 0,
     "filters": [],
     "sortBy": []
    },
    "deepnote_table_loading": false,
    "deepnote_cell_type": "code",
    "deepnote_cell_height": 613
   },
   "source": "df_mar =df_A.groupby('BrandName').sum().reset_index()\ndf_mar",
   "execution_count": 20,
   "outputs": [
    {
     "output_type": "execute_result",
     "execution_count": 20,
     "data": {
      "application/vnd.deepnote.dataframe.v3+json": {
       "column_count": 3,
       "row_count": 177,
       "columns": [
        {
         "name": "BrandName",
         "dtype": "object",
         "stats": {
          "unique_count": 177,
          "nan_count": 0,
          "categories": [
           {
            "name": "109f",
            "count": 1
           },
           {
            "name": "4711",
            "count": 1
           },
           {
            "name": "175 others",
            "count": 175
           }
          ]
         }
        },
        {
         "name": "MRP",
         "dtype": "int64",
         "stats": {
          "unique_count": 174,
          "nan_count": 0,
          "min": "598",
          "max": "6933278",
          "histogram": [
           {
            "bin_start": 598,
            "bin_end": 693866,
            "count": 155
           },
           {
            "bin_start": 693866,
            "bin_end": 1387134,
            "count": 13
           },
           {
            "bin_start": 1387134,
            "bin_end": 2080402,
            "count": 8
           },
           {
            "bin_start": 2080402,
            "bin_end": 2773670,
            "count": 0
           },
           {
            "bin_start": 2773670,
            "bin_end": 3466938,
            "count": 0
           },
           {
            "bin_start": 3466938,
            "bin_end": 4160206,
            "count": 0
           },
           {
            "bin_start": 4160206,
            "bin_end": 4853474,
            "count": 0
           },
           {
            "bin_start": 4853474,
            "bin_end": 5546742,
            "count": 0
           },
           {
            "bin_start": 5546742,
            "bin_end": 6240010,
            "count": 0
           },
           {
            "bin_start": 6240010,
            "bin_end": 6933278,
            "count": 1
           }
          ]
         }
        },
        {
         "name": "SellPrice",
         "dtype": "int64",
         "stats": {
          "unique_count": 175,
          "nan_count": 0,
          "min": "299",
          "max": "3356583",
          "histogram": [
           {
            "bin_start": 299,
            "bin_end": 335927.4,
            "count": 148
           },
           {
            "bin_start": 335927.4,
            "bin_end": 671555.8,
            "count": 18
           },
           {
            "bin_start": 671555.8,
            "bin_end": 1007184.2000000001,
            "count": 7
           },
           {
            "bin_start": 1007184.2000000001,
            "bin_end": 1342812.6,
            "count": 3
           },
           {
            "bin_start": 1342812.6,
            "bin_end": 1678441,
            "count": 0
           },
           {
            "bin_start": 1678441,
            "bin_end": 2014069.4000000001,
            "count": 0
           },
           {
            "bin_start": 2014069.4000000001,
            "bin_end": 2349697.8000000003,
            "count": 0
           },
           {
            "bin_start": 2349697.8000000003,
            "bin_end": 2685326.2,
            "count": 0
           },
           {
            "bin_start": 2685326.2,
            "bin_end": 3020954.6,
            "count": 0
           },
           {
            "bin_start": 3020954.6,
            "bin_end": 3356583,
            "count": 1
           }
          ]
         }
        },
        {
         "name": "_deepnote_index_column",
         "dtype": "int64"
        }
       ],
       "rows": [
        {
         "BrandName": "109f",
         "MRP": 133024,
         "SellPrice": 52054,
         "_deepnote_index_column": 0
        },
        {
         "BrandName": "4711",
         "MRP": 3900,
         "SellPrice": 3120,
         "_deepnote_index_column": 1
        },
        {
         "BrandName": "aarke",
         "MRP": 1900,
         "SellPrice": 1140,
         "_deepnote_index_column": 2
        },
        {
         "BrandName": "abercrombie & fitch",
         "MRP": 20800,
         "SellPrice": 16440,
         "_deepnote_index_column": 3
        },
        {
         "BrandName": "adidas",
         "MRP": 363348,
         "SellPrice": 235778,
         "_deepnote_index_column": 4
        },
        {
         "BrandName": "aigner",
         "MRP": 10850,
         "SellPrice": 7595,
         "_deepnote_index_column": 5
        },
        {
         "BrandName": "ajmal",
         "MRP": 29048,
         "SellPrice": 18198,
         "_deepnote_index_column": 6
        },
        {
         "BrandName": "allen solly",
         "MRP": 452585,
         "SellPrice": 303275,
         "_deepnote_index_column": 7
        },
        {
         "BrandName": "altlife",
         "MRP": 113845,
         "SellPrice": 56845,
         "_deepnote_index_column": 8
        },
        {
         "BrandName": "amante",
         "MRP": 107865,
         "SellPrice": 66908,
         "_deepnote_index_column": 9
        }
       ]
      },
      "text/plain": "               BrandName      MRP  SellPrice\n0                   109f   133024      52054\n1                   4711     3900       3120\n2                  aarke     1900       1140\n3    abercrombie & fitch    20800      16440\n4                 adidas   363348     235778\n..                   ...      ...        ...\n172                    w   756339     456069\n173               wacoal    77750      49513\n174                yuris  1095875     435260\n175          zink london  1974932     964152\n176                ziyaa  1350329     546810\n\n[177 rows x 3 columns]",
      "text/html": "<div>\n<style scoped>\n    .dataframe tbody tr th:only-of-type {\n        vertical-align: middle;\n    }\n\n    .dataframe tbody tr th {\n        vertical-align: top;\n    }\n\n    .dataframe thead th {\n        text-align: right;\n    }\n</style>\n<table border=\"1\" class=\"dataframe\">\n  <thead>\n    <tr style=\"text-align: right;\">\n      <th></th>\n      <th>BrandName</th>\n      <th>MRP</th>\n      <th>SellPrice</th>\n    </tr>\n  </thead>\n  <tbody>\n    <tr>\n      <th>0</th>\n      <td>109f</td>\n      <td>133024</td>\n      <td>52054</td>\n    </tr>\n    <tr>\n      <th>1</th>\n      <td>4711</td>\n      <td>3900</td>\n      <td>3120</td>\n    </tr>\n    <tr>\n      <th>2</th>\n      <td>aarke</td>\n      <td>1900</td>\n      <td>1140</td>\n    </tr>\n    <tr>\n      <th>3</th>\n      <td>abercrombie &amp; fitch</td>\n      <td>20800</td>\n      <td>16440</td>\n    </tr>\n    <tr>\n      <th>4</th>\n      <td>adidas</td>\n      <td>363348</td>\n      <td>235778</td>\n    </tr>\n    <tr>\n      <th>...</th>\n      <td>...</td>\n      <td>...</td>\n      <td>...</td>\n    </tr>\n    <tr>\n      <th>172</th>\n      <td>w</td>\n      <td>756339</td>\n      <td>456069</td>\n    </tr>\n    <tr>\n      <th>173</th>\n      <td>wacoal</td>\n      <td>77750</td>\n      <td>49513</td>\n    </tr>\n    <tr>\n      <th>174</th>\n      <td>yuris</td>\n      <td>1095875</td>\n      <td>435260</td>\n    </tr>\n    <tr>\n      <th>175</th>\n      <td>zink london</td>\n      <td>1974932</td>\n      <td>964152</td>\n    </tr>\n    <tr>\n      <th>176</th>\n      <td>ziyaa</td>\n      <td>1350329</td>\n      <td>546810</td>\n    </tr>\n  </tbody>\n</table>\n<p>177 rows × 3 columns</p>\n</div>"
     },
     "metadata": {}
    }
   ]
  },
  {
   "cell_type": "code",
   "metadata": {
    "cell_id": "40da6cc8bb784d7099e861566174925b",
    "tags": [],
    "deepnote_to_be_reexecuted": false,
    "source_hash": "444e2e09",
    "execution_start": 1660253084666,
    "execution_millis": 23,
    "deepnote_cell_type": "code",
    "deepnote_cell_height": 613
   },
   "source": "profit = df_mar.sort_values('SellPrice', ascending=False)\nprofit",
   "execution_count": 21,
   "outputs": [
    {
     "output_type": "execute_result",
     "execution_count": 21,
     "data": {
      "application/vnd.deepnote.dataframe.v3+json": {
       "column_count": 3,
       "row_count": 177,
       "columns": [
        {
         "name": "BrandName",
         "dtype": "object",
         "stats": {
          "unique_count": 177,
          "nan_count": 0,
          "categories": [
           {
            "name": "vastranand",
            "count": 1
           },
           {
            "name": "global desi",
            "count": 1
           },
           {
            "name": "175 others",
            "count": 175
           }
          ]
         }
        },
        {
         "name": "MRP",
         "dtype": "int64",
         "stats": {
          "unique_count": 174,
          "nan_count": 0,
          "min": "598",
          "max": "6933278",
          "histogram": [
           {
            "bin_start": 598,
            "bin_end": 693866,
            "count": 155
           },
           {
            "bin_start": 693866,
            "bin_end": 1387134,
            "count": 13
           },
           {
            "bin_start": 1387134,
            "bin_end": 2080402,
            "count": 8
           },
           {
            "bin_start": 2080402,
            "bin_end": 2773670,
            "count": 0
           },
           {
            "bin_start": 2773670,
            "bin_end": 3466938,
            "count": 0
           },
           {
            "bin_start": 3466938,
            "bin_end": 4160206,
            "count": 0
           },
           {
            "bin_start": 4160206,
            "bin_end": 4853474,
            "count": 0
           },
           {
            "bin_start": 4853474,
            "bin_end": 5546742,
            "count": 0
           },
           {
            "bin_start": 5546742,
            "bin_end": 6240010,
            "count": 0
           },
           {
            "bin_start": 6240010,
            "bin_end": 6933278,
            "count": 1
           }
          ]
         }
        },
        {
         "name": "SellPrice",
         "dtype": "int64",
         "stats": {
          "unique_count": 175,
          "nan_count": 0,
          "min": "299",
          "max": "3356583",
          "histogram": [
           {
            "bin_start": 299,
            "bin_end": 335927.4,
            "count": 148
           },
           {
            "bin_start": 335927.4,
            "bin_end": 671555.8,
            "count": 18
           },
           {
            "bin_start": 671555.8,
            "bin_end": 1007184.2000000001,
            "count": 7
           },
           {
            "bin_start": 1007184.2000000001,
            "bin_end": 1342812.6,
            "count": 3
           },
           {
            "bin_start": 1342812.6,
            "bin_end": 1678441,
            "count": 0
           },
           {
            "bin_start": 1678441,
            "bin_end": 2014069.4000000001,
            "count": 0
           },
           {
            "bin_start": 2014069.4000000001,
            "bin_end": 2349697.8000000003,
            "count": 0
           },
           {
            "bin_start": 2349697.8000000003,
            "bin_end": 2685326.2,
            "count": 0
           },
           {
            "bin_start": 2685326.2,
            "bin_end": 3020954.6,
            "count": 0
           },
           {
            "bin_start": 3020954.6,
            "bin_end": 3356583,
            "count": 1
           }
          ]
         }
        },
        {
         "name": "_deepnote_index_column",
         "dtype": "int64"
        }
       ],
       "rows": [
        {
         "BrandName": "vastranand",
         "MRP": 6933278,
         "SellPrice": 3356583,
         "_deepnote_index_column": 168
        },
        {
         "BrandName": "global desi",
         "MRP": 2060386,
         "SellPrice": 1251831,
         "_deepnote_index_column": 61
        },
        {
         "BrandName": "casio",
         "MRP": 1389535,
         "SellPrice": 1083883,
         "_deepnote_index_column": 24
        },
        {
         "BrandName": "and",
         "MRP": 1546676,
         "SellPrice": 1010276,
         "_deepnote_index_column": 11
        },
        {
         "BrandName": "zink london",
         "MRP": 1974932,
         "SellPrice": 964152,
         "_deepnote_index_column": 175
        },
        {
         "BrandName": "vero moda",
         "MRP": 1223145,
         "SellPrice": 856105,
         "_deepnote_index_column": 169
        },
        {
         "BrandName": "faballey",
         "MRP": 1308449,
         "SellPrice": 801103,
         "_deepnote_index_column": 49
        },
        {
         "BrandName": "giordano",
         "MRP": 1824975,
         "SellPrice": 779458,
         "_deepnote_index_column": 58
        },
        {
         "BrandName": "janasya",
         "MRP": 1717258,
         "SellPrice": 766894,
         "_deepnote_index_column": 75
        },
        {
         "BrandName": "juniper",
         "MRP": 1588019,
         "SellPrice": 727675,
         "_deepnote_index_column": 78
        }
       ]
      },
      "text/plain": "             BrandName      MRP  SellPrice\n168         vastranand  6933278    3356583\n61         global desi  2060386    1251831\n24               casio  1389535    1083883\n11                 and  1546676    1010276\n175        zink london  1974932     964152\n..                 ...      ...        ...\n106         mothercare     1399        699\n87               lavie     1298        648\n57                 gas     2499        624\n164  unknown by ayesha     1198        359\n91           lil' star      598        299\n\n[177 rows x 3 columns]",
      "text/html": "<div>\n<style scoped>\n    .dataframe tbody tr th:only-of-type {\n        vertical-align: middle;\n    }\n\n    .dataframe tbody tr th {\n        vertical-align: top;\n    }\n\n    .dataframe thead th {\n        text-align: right;\n    }\n</style>\n<table border=\"1\" class=\"dataframe\">\n  <thead>\n    <tr style=\"text-align: right;\">\n      <th></th>\n      <th>BrandName</th>\n      <th>MRP</th>\n      <th>SellPrice</th>\n    </tr>\n  </thead>\n  <tbody>\n    <tr>\n      <th>168</th>\n      <td>vastranand</td>\n      <td>6933278</td>\n      <td>3356583</td>\n    </tr>\n    <tr>\n      <th>61</th>\n      <td>global desi</td>\n      <td>2060386</td>\n      <td>1251831</td>\n    </tr>\n    <tr>\n      <th>24</th>\n      <td>casio</td>\n      <td>1389535</td>\n      <td>1083883</td>\n    </tr>\n    <tr>\n      <th>11</th>\n      <td>and</td>\n      <td>1546676</td>\n      <td>1010276</td>\n    </tr>\n    <tr>\n      <th>175</th>\n      <td>zink london</td>\n      <td>1974932</td>\n      <td>964152</td>\n    </tr>\n    <tr>\n      <th>...</th>\n      <td>...</td>\n      <td>...</td>\n      <td>...</td>\n    </tr>\n    <tr>\n      <th>106</th>\n      <td>mothercare</td>\n      <td>1399</td>\n      <td>699</td>\n    </tr>\n    <tr>\n      <th>87</th>\n      <td>lavie</td>\n      <td>1298</td>\n      <td>648</td>\n    </tr>\n    <tr>\n      <th>57</th>\n      <td>gas</td>\n      <td>2499</td>\n      <td>624</td>\n    </tr>\n    <tr>\n      <th>164</th>\n      <td>unknown by ayesha</td>\n      <td>1198</td>\n      <td>359</td>\n    </tr>\n    <tr>\n      <th>91</th>\n      <td>lil' star</td>\n      <td>598</td>\n      <td>299</td>\n    </tr>\n  </tbody>\n</table>\n<p>177 rows × 3 columns</p>\n</div>"
     },
     "metadata": {}
    }
   ]
  },
  {
   "cell_type": "code",
   "metadata": {
    "cell_id": "063701f18fef4136ac40b0fc38f94e3b",
    "tags": [],
    "deepnote_to_be_reexecuted": false,
    "source_hash": "7be6602b",
    "execution_start": 1660253084751,
    "execution_millis": 2,
    "deepnote_cell_type": "code",
    "deepnote_cell_height": 426
   },
   "source": "#tomando las 5 marcas que generaron mas profit \ndf_mar2 = profit.head(5)\ndf_mar2",
   "execution_count": 22,
   "outputs": [
    {
     "output_type": "execute_result",
     "execution_count": 22,
     "data": {
      "application/vnd.deepnote.dataframe.v3+json": {
       "column_count": 3,
       "row_count": 5,
       "columns": [
        {
         "name": "BrandName",
         "dtype": "object",
         "stats": {
          "unique_count": 5,
          "nan_count": 0,
          "categories": [
           {
            "name": "vastranand",
            "count": 1
           },
           {
            "name": "global desi",
            "count": 1
           },
           {
            "name": "3 others",
            "count": 3
           }
          ]
         }
        },
        {
         "name": "MRP",
         "dtype": "int64",
         "stats": {
          "unique_count": 5,
          "nan_count": 0,
          "min": "1389535",
          "max": "6933278",
          "histogram": [
           {
            "bin_start": 1389535,
            "bin_end": 1943909.3,
            "count": 2
           },
           {
            "bin_start": 1943909.3,
            "bin_end": 2498283.6,
            "count": 2
           },
           {
            "bin_start": 2498283.6,
            "bin_end": 3052657.9000000004,
            "count": 0
           },
           {
            "bin_start": 3052657.9000000004,
            "bin_end": 3607032.2,
            "count": 0
           },
           {
            "bin_start": 3607032.2,
            "bin_end": 4161406.5,
            "count": 0
           },
           {
            "bin_start": 4161406.5,
            "bin_end": 4715780.800000001,
            "count": 0
           },
           {
            "bin_start": 4715780.800000001,
            "bin_end": 5270155.100000001,
            "count": 0
           },
           {
            "bin_start": 5270155.100000001,
            "bin_end": 5824529.4,
            "count": 0
           },
           {
            "bin_start": 5824529.4,
            "bin_end": 6378903.7,
            "count": 0
           },
           {
            "bin_start": 6378903.7,
            "bin_end": 6933278,
            "count": 1
           }
          ]
         }
        },
        {
         "name": "SellPrice",
         "dtype": "int64",
         "stats": {
          "unique_count": 5,
          "nan_count": 0,
          "min": "964152",
          "max": "3356583",
          "histogram": [
           {
            "bin_start": 964152,
            "bin_end": 1203395.1,
            "count": 3
           },
           {
            "bin_start": 1203395.1,
            "bin_end": 1442638.2,
            "count": 1
           },
           {
            "bin_start": 1442638.2,
            "bin_end": 1681881.3,
            "count": 0
           },
           {
            "bin_start": 1681881.3,
            "bin_end": 1921124.4,
            "count": 0
           },
           {
            "bin_start": 1921124.4,
            "bin_end": 2160367.5,
            "count": 0
           },
           {
            "bin_start": 2160367.5,
            "bin_end": 2399610.6,
            "count": 0
           },
           {
            "bin_start": 2399610.6,
            "bin_end": 2638853.7,
            "count": 0
           },
           {
            "bin_start": 2638853.7,
            "bin_end": 2878096.8,
            "count": 0
           },
           {
            "bin_start": 2878096.8,
            "bin_end": 3117339.9,
            "count": 0
           },
           {
            "bin_start": 3117339.9,
            "bin_end": 3356583,
            "count": 1
           }
          ]
         }
        },
        {
         "name": "_deepnote_index_column",
         "dtype": "int64"
        }
       ],
       "rows": [
        {
         "BrandName": "vastranand",
         "MRP": 6933278,
         "SellPrice": 3356583,
         "_deepnote_index_column": 168
        },
        {
         "BrandName": "global desi",
         "MRP": 2060386,
         "SellPrice": 1251831,
         "_deepnote_index_column": 61
        },
        {
         "BrandName": "casio",
         "MRP": 1389535,
         "SellPrice": 1083883,
         "_deepnote_index_column": 24
        },
        {
         "BrandName": "and",
         "MRP": 1546676,
         "SellPrice": 1010276,
         "_deepnote_index_column": 11
        },
        {
         "BrandName": "zink london",
         "MRP": 1974932,
         "SellPrice": 964152,
         "_deepnote_index_column": 175
        }
       ]
      },
      "text/plain": "       BrandName      MRP  SellPrice\n168   vastranand  6933278    3356583\n61   global desi  2060386    1251831\n24         casio  1389535    1083883\n11           and  1546676    1010276\n175  zink london  1974932     964152",
      "text/html": "<div>\n<style scoped>\n    .dataframe tbody tr th:only-of-type {\n        vertical-align: middle;\n    }\n\n    .dataframe tbody tr th {\n        vertical-align: top;\n    }\n\n    .dataframe thead th {\n        text-align: right;\n    }\n</style>\n<table border=\"1\" class=\"dataframe\">\n  <thead>\n    <tr style=\"text-align: right;\">\n      <th></th>\n      <th>BrandName</th>\n      <th>MRP</th>\n      <th>SellPrice</th>\n    </tr>\n  </thead>\n  <tbody>\n    <tr>\n      <th>168</th>\n      <td>vastranand</td>\n      <td>6933278</td>\n      <td>3356583</td>\n    </tr>\n    <tr>\n      <th>61</th>\n      <td>global desi</td>\n      <td>2060386</td>\n      <td>1251831</td>\n    </tr>\n    <tr>\n      <th>24</th>\n      <td>casio</td>\n      <td>1389535</td>\n      <td>1083883</td>\n    </tr>\n    <tr>\n      <th>11</th>\n      <td>and</td>\n      <td>1546676</td>\n      <td>1010276</td>\n    </tr>\n    <tr>\n      <th>175</th>\n      <td>zink london</td>\n      <td>1974932</td>\n      <td>964152</td>\n    </tr>\n  </tbody>\n</table>\n</div>"
     },
     "metadata": {}
    }
   ]
  },
  {
   "cell_type": "code",
   "metadata": {
    "cell_id": "907206c8277342ed92ec749033b06de9",
    "tags": [],
    "deepnote_to_be_reexecuted": false,
    "source_hash": "e2c19df1",
    "execution_start": 1660253084751,
    "execution_millis": 369,
    "deepnote_cell_type": "code",
    "deepnote_cell_height": 423.03125,
    "deepnote_output_heights": [
     277.046875
    ]
   },
   "source": "plt.figure(figsize=(18,5))\nsns.barplot(x =df_mar2['BrandName'] , y = df_mar2['MRP'])\nplt.title('Ganacia por marca antes del descuento ')\nplt.show()",
   "execution_count": 23,
   "outputs": [
    {
     "data": {
      "text/plain": "<Figure size 1296x360 with 1 Axes>",
      "image/png": "[encoded data removed]"
     },
     "metadata": {
      "needs_background": "light",
      "image/png": {
       "width": 1046,
       "height": 333
      }
     },
     "output_type": "display_data"
    }
   ]
  },
  {
   "cell_type": "code",
   "metadata": {
    "cell_id": "203077ec26ca450ba082e5b586a06edf",
    "tags": [],
    "deepnote_to_be_reexecuted": false,
    "source_hash": "812ca1af",
    "execution_start": 1660253175932,
    "execution_millis": 435,
    "deepnote_cell_type": "code",
    "deepnote_cell_height": 420.6875,
    "deepnote_output_heights": [
     274.703125
    ]
   },
   "source": "plt.figure(figsize=(18,5))\nsns.barplot(x =df_mar2['BrandName'] , y = df_mar2['SellPrice'])\nplt.title('Ganacia por marca luego del descuento ')\nplt.show()",
   "execution_count": 25,
   "outputs": [
    {
     "data": {
      "text/plain": "<Figure size 1296x360 with 1 Axes>",
      "image/png": "[encoded data removed]"
     },
     "metadata": {
      "needs_background": "light",
      "image/png": {
       "width": 1055,
       "height": 333
      }
     },
     "output_type": "display_data"
    }
   ]
  },
  {
   "cell_type": "code",
   "metadata": {
    "cell_id": "0b12169d33864d95af1934e15f72b69a",
    "tags": [],
    "deepnote_to_be_reexecuted": false,
    "source_hash": "92fda922",
    "execution_start": 1660253085130,
    "execution_millis": 34,
    "deepnote_cell_type": "code",
    "deepnote_cell_height": 576.796875
   },
   "source": "#Resta de MRP - SellPrice\ndf_mar2['MRP-SellPrice'] = df_mar2['MRP'] - df_mar2['SellPrice']\ndf_mar2",
   "execution_count": 24,
   "outputs": [
    {
     "name": "stderr",
     "text": "/tmp/ipykernel_86/3278994044.py:2: SettingWithCopyWarning: \nA value is trying to be set on a copy of a slice from a DataFrame.\nTry using .loc[row_indexer,col_indexer] = value instead\n\nSee the caveats in the documentation: https://pandas.pydata.org/pandas-docs/stable/user_guide/indexing.html#returning-a-view-versus-a-copy\n  df_mar2['MRP-SellPrice'] = df_mar2['MRP'] - df_mar2['SellPrice']\n",
     "output_type": "stream"
    },
    {
     "output_type": "execute_result",
     "execution_count": 24,
     "data": {
      "application/vnd.deepnote.dataframe.v3+json": {
       "column_count": 4,
       "row_count": 5,
       "columns": [
        {
         "name": "BrandName",
         "dtype": "object",
         "stats": {
          "unique_count": 5,
          "nan_count": 0,
          "categories": [
           {
            "name": "vastranand",
            "count": 1
           },
           {
            "name": "global desi",
            "count": 1
           },
           {
            "name": "3 others",
            "count": 3
           }
          ]
         }
        },
        {
         "name": "MRP",
         "dtype": "int64",
         "stats": {
          "unique_count": 5,
          "nan_count": 0,
          "min": "1389535",
          "max": "6933278",
          "histogram": [
           {
            "bin_start": 1389535,
            "bin_end": 1943909.3,
            "count": 2
           },
           {
            "bin_start": 1943909.3,
            "bin_end": 2498283.6,
            "count": 2
           },
           {
            "bin_start": 2498283.6,
            "bin_end": 3052657.9000000004,
            "count": 0
           },
           {
            "bin_start": 3052657.9000000004,
            "bin_end": 3607032.2,
            "count": 0
           },
           {
            "bin_start": 3607032.2,
            "bin_end": 4161406.5,
            "count": 0
           },
           {
            "bin_start": 4161406.5,
            "bin_end": 4715780.800000001,
            "count": 0
           },
           {
            "bin_start": 4715780.800000001,
            "bin_end": 5270155.100000001,
            "count": 0
           },
           {
            "bin_start": 5270155.100000001,
            "bin_end": 5824529.4,
            "count": 0
           },
           {
            "bin_start": 5824529.4,
            "bin_end": 6378903.7,
            "count": 0
           },
           {
            "bin_start": 6378903.7,
            "bin_end": 6933278,
            "count": 1
           }
          ]
         }
        },
        {
         "name": "SellPrice",
         "dtype": "int64",
         "stats": {
          "unique_count": 5,
          "nan_count": 0,
          "min": "964152",
          "max": "3356583",
          "histogram": [
           {
            "bin_start": 964152,
            "bin_end": 1203395.1,
            "count": 3
           },
           {
            "bin_start": 1203395.1,
            "bin_end": 1442638.2,
            "count": 1
           },
           {
            "bin_start": 1442638.2,
            "bin_end": 1681881.3,
            "count": 0
           },
           {
            "bin_start": 1681881.3,
            "bin_end": 1921124.4,
            "count": 0
           },
           {
            "bin_start": 1921124.4,
            "bin_end": 2160367.5,
            "count": 0
           },
           {
            "bin_start": 2160367.5,
            "bin_end": 2399610.6,
            "count": 0
           },
           {
            "bin_start": 2399610.6,
            "bin_end": 2638853.7,
            "count": 0
           },
           {
            "bin_start": 2638853.7,
            "bin_end": 2878096.8,
            "count": 0
           },
           {
            "bin_start": 2878096.8,
            "bin_end": 3117339.9,
            "count": 0
           },
           {
            "bin_start": 3117339.9,
            "bin_end": 3356583,
            "count": 1
           }
          ]
         }
        },
        {
         "name": "MRP-SellPrice",
         "dtype": "int64",
         "stats": {
          "unique_count": 5,
          "nan_count": 0,
          "min": "305652",
          "max": "3576695",
          "histogram": [
           {
            "bin_start": 305652,
            "bin_end": 632756.3,
            "count": 2
           },
           {
            "bin_start": 632756.3,
            "bin_end": 959860.6,
            "count": 1
           },
           {
            "bin_start": 959860.6,
            "bin_end": 1286964.9,
            "count": 1
           },
           {
            "bin_start": 1286964.9,
            "bin_end": 1614069.2,
            "count": 0
           },
           {
            "bin_start": 1614069.2,
            "bin_end": 1941173.5,
            "count": 0
           },
           {
            "bin_start": 1941173.5,
            "bin_end": 2268277.8,
            "count": 0
           },
           {
            "bin_start": 2268277.8,
            "bin_end": 2595382.1,
            "count": 0
           },
           {
            "bin_start": 2595382.1,
            "bin_end": 2922486.4,
            "count": 0
           },
           {
            "bin_start": 2922486.4,
            "bin_end": 3249590.6999999997,
            "count": 0
           },
           {
            "bin_start": 3249590.6999999997,
            "bin_end": 3576695,
            "count": 1
           }
          ]
         }
        },
        {
         "name": "_deepnote_index_column",
         "dtype": "int64"
        }
       ],
       "rows": [
        {
         "BrandName": "vastranand",
         "MRP": 6933278,
         "SellPrice": 3356583,
         "MRP-SellPrice": 3576695,
         "_deepnote_index_column": 168
        },
        {
         "BrandName": "global desi",
         "MRP": 2060386,
         "SellPrice": 1251831,
         "MRP-SellPrice": 808555,
         "_deepnote_index_column": 61
        },
        {
         "BrandName": "casio",
         "MRP": 1389535,
         "SellPrice": 1083883,
         "MRP-SellPrice": 305652,
         "_deepnote_index_column": 24
        },
        {
         "BrandName": "and",
         "MRP": 1546676,
         "SellPrice": 1010276,
         "MRP-SellPrice": 536400,
         "_deepnote_index_column": 11
        },
        {
         "BrandName": "zink london",
         "MRP": 1974932,
         "SellPrice": 964152,
         "MRP-SellPrice": 1010780,
         "_deepnote_index_column": 175
        }
       ]
      },
      "text/plain": "       BrandName      MRP  SellPrice  MRP-SellPrice\n168   vastranand  6933278    3356583        3576695\n61   global desi  2060386    1251831         808555\n24         casio  1389535    1083883         305652\n11           and  1546676    1010276         536400\n175  zink london  1974932     964152        1010780",
      "text/html": "<div>\n<style scoped>\n    .dataframe tbody tr th:only-of-type {\n        vertical-align: middle;\n    }\n\n    .dataframe tbody tr th {\n        vertical-align: top;\n    }\n\n    .dataframe thead th {\n        text-align: right;\n    }\n</style>\n<table border=\"1\" class=\"dataframe\">\n  <thead>\n    <tr style=\"text-align: right;\">\n      <th></th>\n      <th>BrandName</th>\n      <th>MRP</th>\n      <th>SellPrice</th>\n      <th>MRP-SellPrice</th>\n    </tr>\n  </thead>\n  <tbody>\n    <tr>\n      <th>168</th>\n      <td>vastranand</td>\n      <td>6933278</td>\n      <td>3356583</td>\n      <td>3576695</td>\n    </tr>\n    <tr>\n      <th>61</th>\n      <td>global desi</td>\n      <td>2060386</td>\n      <td>1251831</td>\n      <td>808555</td>\n    </tr>\n    <tr>\n      <th>24</th>\n      <td>casio</td>\n      <td>1389535</td>\n      <td>1083883</td>\n      <td>305652</td>\n    </tr>\n    <tr>\n      <th>11</th>\n      <td>and</td>\n      <td>1546676</td>\n      <td>1010276</td>\n      <td>536400</td>\n    </tr>\n    <tr>\n      <th>175</th>\n      <td>zink london</td>\n      <td>1974932</td>\n      <td>964152</td>\n      <td>1010780</td>\n    </tr>\n  </tbody>\n</table>\n</div>"
     },
     "metadata": {}
    }
   ]
  },
  {
   "cell_type": "markdown",
   "source": "Podemos observar cuanto fue la perdida de profit luego de hacerse los descuentos en estas marcas. ",
   "metadata": {
    "formattedRanges": [],
    "is_collapsed": false,
    "cell_id": "e7b03a3e0ada412caac384d7971a75e4",
    "tags": [],
    "deepnote_cell_type": "text-cell-p"
   }
  },
  {
   "cell_type": "markdown",
   "source": "# conclusión ",
   "metadata": {
    "formattedRanges": [],
    "is_collapsed": false,
    "cell_id": "3ead3471c66644fab166126a4b80c925",
    "tags": [],
    "deepnote_cell_type": "text-cell-h1"
   }
  },
  {
   "cell_type": "markdown",
   "source": "Logramos ver la cantidad de dinero que se genero por categoría enseñándonos así las mas rentables, lo mismo logramos ver con las marcas, aunque solo tomamos el top 5 de marcas que generaron mas beneficio. ",
   "metadata": {
    "formattedRanges": [],
    "is_collapsed": false,
    "cell_id": "c5ebfba43ba84382a51289e56e0df412",
    "tags": [],
    "deepnote_cell_type": "text-cell-p"
   }
  },
  {
   "cell_type": "markdown",
   "source": "También se vio cuanto profit se perdió por categoría y por marca siendo la categoría que mas perdió dinero:",
   "metadata": {
    "formattedRanges": [],
    "is_collapsed": false,
    "cell_id": "19468e8d-0a71-483a-9c73-149081b8b3a9",
    "tags": [],
    "deepnote_cell_type": "text-cell-p"
   }
  },
  {
   "cell_type": "markdown",
   "source": "- Indianwear-Women con un total de 12.209.837$ de beneficio perdido. ",
   "metadata": {
    "formattedRanges": [],
    "is_collapsed": false,
    "cell_id": "16626dd7-5a51-482c-92b8-f7105a8be581",
    "tags": [],
    "deepnote_cell_type": "text-cell-bullet"
   }
  },
  {
   "cell_type": "markdown",
   "source": "y la marca que perdió mas beneficio por descuentos fue: ",
   "metadata": {
    "formattedRanges": [],
    "is_collapsed": false,
    "cell_id": "90bbdcfa-257f-4889-9eb4-a4ba69e057a1",
    "tags": [],
    "deepnote_cell_type": "text-cell-p"
   }
  },
  {
   "cell_type": "markdown",
   "source": "vastranand con un total de 3.576.695$",
   "metadata": {
    "formattedRanges": [],
    "is_collapsed": false,
    "cell_id": "959885d3-bc46-4256-a652-365226d247d2",
    "tags": [],
    "deepnote_cell_type": "text-cell-p"
   }
  },
  {
   "cell_type": "markdown",
   "source": "Sin embargo eso no quiere decir que las ventas hayan sido malas, pero nos supone preguntarnos si se pueden generar estrategias que nos ayuden a prescindir de los descuentos y así obtener mas profit de dichos artículos.",
   "metadata": {
    "formattedRanges": [],
    "is_collapsed": false,
    "cell_id": "ceb9c2dd-de23-409e-a0f1-d35364f5d579",
    "tags": [],
    "deepnote_cell_type": "text-cell-p"
   }
  },
  {
   "cell_type": "markdown",
   "source": "<a style='text-decoration:none;line-height:16px;display:flex;color:#5B5B62;padding:10px;justify-content:end;' href='https://deepnote.com?utm_source=created-in-deepnote-cell&projectId=c49f7479-868a-4378-b527-1b5401baf4d5' target=\"_blank\">\n<img alt='Created in deepnote.com' style='display:inline;max-height:16px;margin:0px;margin-right:7.5px;' src='data:image/svg+xml;base64,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' > </img>\nCreated in <span style='font-weight:600;margin-left:4px;'>Deepnote</span></a>",
   "metadata": {
    "tags": [],
    "created_in_deepnote_cell": true,
    "deepnote_cell_type": "markdown"
   }
  }
 ],
 "nbformat": 4,
 "nbformat_minor": 2,
 "metadata": {
  "orig_nbformat": 2,
  "deepnote": {},
  "deepnote_notebook_id": "2b768434-1595-42af-989a-c5e413b60d23",
  "deepnote_execution_queue": []
 }
}